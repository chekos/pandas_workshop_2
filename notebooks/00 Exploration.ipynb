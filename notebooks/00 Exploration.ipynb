{
 "cells": [
  {
   "cell_type": "markdown",
   "metadata": {},
   "source": [
    "# 00 Exploration\n",
    "\n",
    "##### created: 11-2-2018\n",
    "##### last mod:\n",
    "##### modifications:\n",
    "###### 11-2-2018: created notebook\n",
    "***\n",
    "\n",
    "### Goals:\n",
    "1. Explore the (fake) student-level dataset `fake_data.dta`\n",
    "2. \n",
    "3. "
   ]
  },
  {
   "cell_type": "code",
   "execution_count": 2,
   "metadata": {},
   "outputs": [],
   "source": [
    "import gzip\n",
    "import pandas as pd\n",
    "from IPython.core.interactiveshell import InteractiveShell\n",
    "\n",
    "InteractiveShell.ast_node_interactivity = \"all\""
   ]
  },
  {
   "cell_type": "code",
   "execution_count": 4,
   "metadata": {},
   "outputs": [
    {
     "name": "stdout",
     "output_type": "stream",
     "text": [
      "Shape of file: 10,000,000 rows, 16 columns.\n",
      "Dataframe stats:\n"
     ]
    },
    {
     "data": {
      "text/html": [
       "<div>\n",
       "<style scoped>\n",
       "    .dataframe tbody tr th:only-of-type {\n",
       "        vertical-align: middle;\n",
       "    }\n",
       "\n",
       "    .dataframe tbody tr th {\n",
       "        vertical-align: top;\n",
       "    }\n",
       "\n",
       "    .dataframe thead th {\n",
       "        text-align: right;\n",
       "    }\n",
       "</style>\n",
       "<table border=\"1\" class=\"dataframe\">\n",
       "  <thead>\n",
       "    <tr style=\"text-align: right;\">\n",
       "      <th></th>\n",
       "      <th>ids</th>\n",
       "      <th>age</th>\n",
       "      <th>units</th>\n",
       "      <th>year</th>\n",
       "    </tr>\n",
       "  </thead>\n",
       "  <tbody>\n",
       "    <tr>\n",
       "      <th>count</th>\n",
       "      <td>1.000000e+07</td>\n",
       "      <td>1.000000e+07</td>\n",
       "      <td>1.000000e+07</td>\n",
       "      <td>1.000000e+07</td>\n",
       "    </tr>\n",
       "    <tr>\n",
       "      <th>mean</th>\n",
       "      <td>5.503703e+05</td>\n",
       "      <td>4.100960e+01</td>\n",
       "      <td>3.119873e+00</td>\n",
       "      <td>2.015000e+03</td>\n",
       "    </tr>\n",
       "    <tr>\n",
       "      <th>std</th>\n",
       "      <td>2.598108e+05</td>\n",
       "      <td>1.356697e+01</td>\n",
       "      <td>9.085057e-01</td>\n",
       "      <td>8.164495e-01</td>\n",
       "    </tr>\n",
       "    <tr>\n",
       "      <th>min</th>\n",
       "      <td>1.000000e+05</td>\n",
       "      <td>1.800000e+01</td>\n",
       "      <td>2.000000e+00</td>\n",
       "      <td>2.014000e+03</td>\n",
       "    </tr>\n",
       "    <tr>\n",
       "      <th>25%</th>\n",
       "      <td>3.255310e+05</td>\n",
       "      <td>2.900000e+01</td>\n",
       "      <td>2.000000e+00</td>\n",
       "      <td>2.014000e+03</td>\n",
       "    </tr>\n",
       "    <tr>\n",
       "      <th>50%</th>\n",
       "      <td>5.505160e+05</td>\n",
       "      <td>4.100000e+01</td>\n",
       "      <td>3.000000e+00</td>\n",
       "      <td>2.015000e+03</td>\n",
       "    </tr>\n",
       "    <tr>\n",
       "      <th>75%</th>\n",
       "      <td>7.755160e+05</td>\n",
       "      <td>5.300000e+01</td>\n",
       "      <td>4.000000e+00</td>\n",
       "      <td>2.016000e+03</td>\n",
       "    </tr>\n",
       "    <tr>\n",
       "      <th>max</th>\n",
       "      <td>9.999980e+05</td>\n",
       "      <td>6.400000e+01</td>\n",
       "      <td>5.000000e+00</td>\n",
       "      <td>2.016000e+03</td>\n",
       "    </tr>\n",
       "  </tbody>\n",
       "</table>\n",
       "</div>"
      ],
      "text/plain": [
       "                ids           age         units          year\n",
       "count  1.000000e+07  1.000000e+07  1.000000e+07  1.000000e+07\n",
       "mean   5.503703e+05  4.100960e+01  3.119873e+00  2.015000e+03\n",
       "std    2.598108e+05  1.356697e+01  9.085057e-01  8.164495e-01\n",
       "min    1.000000e+05  1.800000e+01  2.000000e+00  2.014000e+03\n",
       "25%    3.255310e+05  2.900000e+01  2.000000e+00  2.014000e+03\n",
       "50%    5.505160e+05  4.100000e+01  3.000000e+00  2.015000e+03\n",
       "75%    7.755160e+05  5.300000e+01  4.000000e+00  2.016000e+03\n",
       "max    9.999980e+05  6.400000e+01  5.000000e+00  2.016000e+03"
      ]
     },
     "execution_count": 4,
     "metadata": {},
     "output_type": "execute_result"
    },
    {
     "name": "stdout",
     "output_type": "stream",
     "text": [
      "Dataframe head:\n"
     ]
    },
    {
     "data": {
      "text/html": [
       "<div>\n",
       "<style scoped>\n",
       "    .dataframe tbody tr th:only-of-type {\n",
       "        vertical-align: middle;\n",
       "    }\n",
       "\n",
       "    .dataframe tbody tr th {\n",
       "        vertical-align: top;\n",
       "    }\n",
       "\n",
       "    .dataframe thead th {\n",
       "        text-align: right;\n",
       "    }\n",
       "</style>\n",
       "<table border=\"1\" class=\"dataframe\">\n",
       "  <thead>\n",
       "    <tr style=\"text-align: right;\">\n",
       "      <th></th>\n",
       "      <th>ids</th>\n",
       "      <th>sex</th>\n",
       "      <th>age</th>\n",
       "      <th>first_time_status</th>\n",
       "      <th>intent</th>\n",
       "      <th>race</th>\n",
       "      <th>full_time</th>\n",
       "      <th>college</th>\n",
       "      <th>top_code</th>\n",
       "      <th>subject</th>\n",
       "      <th>course_number</th>\n",
       "      <th>course_name</th>\n",
       "      <th>units</th>\n",
       "      <th>grades</th>\n",
       "      <th>year</th>\n",
       "      <th>quarter</th>\n",
       "    </tr>\n",
       "  </thead>\n",
       "  <tbody>\n",
       "    <tr>\n",
       "      <th>0</th>\n",
       "      <td>471900</td>\n",
       "      <td>female</td>\n",
       "      <td>38</td>\n",
       "      <td>returning</td>\n",
       "      <td>AA</td>\n",
       "      <td>asian</td>\n",
       "      <td>full-time</td>\n",
       "      <td>Butte College</td>\n",
       "      <td>000322</td>\n",
       "      <td>ESL</td>\n",
       "      <td>20</td>\n",
       "      <td>Writing II</td>\n",
       "      <td>3</td>\n",
       "      <td>C</td>\n",
       "      <td>2015</td>\n",
       "      <td>Spring</td>\n",
       "    </tr>\n",
       "    <tr>\n",
       "      <th>1</th>\n",
       "      <td>506657</td>\n",
       "      <td>female</td>\n",
       "      <td>35</td>\n",
       "      <td>returning</td>\n",
       "      <td>transfer</td>\n",
       "      <td>asian</td>\n",
       "      <td>full-time</td>\n",
       "      <td>San Diego Mesa College</td>\n",
       "      <td>000104</td>\n",
       "      <td>ENG</td>\n",
       "      <td>35</td>\n",
       "      <td>Reading III</td>\n",
       "      <td>2</td>\n",
       "      <td>B-</td>\n",
       "      <td>2014</td>\n",
       "      <td>Winter</td>\n",
       "    </tr>\n",
       "    <tr>\n",
       "      <th>2</th>\n",
       "      <td>780835</td>\n",
       "      <td>female</td>\n",
       "      <td>58</td>\n",
       "      <td>returning</td>\n",
       "      <td>credential</td>\n",
       "      <td>latino</td>\n",
       "      <td>part-time</td>\n",
       "      <td>Sierra College</td>\n",
       "      <td>000102</td>\n",
       "      <td>MAT</td>\n",
       "      <td>103</td>\n",
       "      <td>Linear Algebra II</td>\n",
       "      <td>4</td>\n",
       "      <td>C+</td>\n",
       "      <td>2016</td>\n",
       "      <td>Spring</td>\n",
       "    </tr>\n",
       "    <tr>\n",
       "      <th>3</th>\n",
       "      <td>258697</td>\n",
       "      <td>female</td>\n",
       "      <td>59</td>\n",
       "      <td>returning</td>\n",
       "      <td>transfer</td>\n",
       "      <td>white</td>\n",
       "      <td>full-time</td>\n",
       "      <td>De Anza College</td>\n",
       "      <td>000104</td>\n",
       "      <td>ENG</td>\n",
       "      <td>96</td>\n",
       "      <td>Pre-pre-pre-pre-College Composition</td>\n",
       "      <td>2</td>\n",
       "      <td>C-</td>\n",
       "      <td>2014</td>\n",
       "      <td>Spring</td>\n",
       "    </tr>\n",
       "    <tr>\n",
       "      <th>4</th>\n",
       "      <td>677933</td>\n",
       "      <td>female</td>\n",
       "      <td>45</td>\n",
       "      <td>returning</td>\n",
       "      <td>transfer</td>\n",
       "      <td>latino</td>\n",
       "      <td>full-time</td>\n",
       "      <td>San Jose City College</td>\n",
       "      <td>004028</td>\n",
       "      <td>STA</td>\n",
       "      <td>77</td>\n",
       "      <td>Bio Statitics</td>\n",
       "      <td>3</td>\n",
       "      <td>B-</td>\n",
       "      <td>2015</td>\n",
       "      <td>Winter</td>\n",
       "    </tr>\n",
       "  </tbody>\n",
       "</table>\n",
       "</div>"
      ],
      "text/plain": [
       "      ids     sex  age first_time_status      intent    race  full_time  \\\n",
       "0  471900  female   38         returning          AA   asian  full-time   \n",
       "1  506657  female   35         returning    transfer   asian  full-time   \n",
       "2  780835  female   58         returning  credential  latino  part-time   \n",
       "3  258697  female   59         returning    transfer   white  full-time   \n",
       "4  677933  female   45         returning    transfer  latino  full-time   \n",
       "\n",
       "                  college top_code subject course_number  \\\n",
       "0           Butte College   000322     ESL            20   \n",
       "1  San Diego Mesa College   000104     ENG            35   \n",
       "2          Sierra College   000102     MAT           103   \n",
       "3         De Anza College   000104     ENG            96   \n",
       "4   San Jose City College   004028     STA            77   \n",
       "\n",
       "                           course_name  units grades  year quarter  \n",
       "0                           Writing II      3      C  2015  Spring  \n",
       "1                          Reading III      2     B-  2014  Winter  \n",
       "2                    Linear Algebra II      4     C+  2016  Spring  \n",
       "3  Pre-pre-pre-pre-College Composition      2     C-  2014  Spring  \n",
       "4                        Bio Statitics      3     B-  2015  Winter  "
      ]
     },
     "execution_count": 4,
     "metadata": {},
     "output_type": "execute_result"
    }
   ],
   "source": [
    "with gzip.open(\"../data/processed/fake_data.dta.gz\", \"rb\") as dataset:\n",
    "    df = pd.read_stata(dataset, )\n",
    "    \n",
    "print(f\"Shape of file: {df.shape[0]:,.0f} rows, {df.shape[1]:.0f} columns.\")\n",
    "print(\"Dataframe stats:\")\n",
    "df.describe()\n",
    "print(\"Dataframe head:\")\n",
    "df.head()"
   ]
  },
  {
   "cell_type": "markdown",
   "metadata": {},
   "source": [
    "***\n",
    "Exploring by College:"
   ]
  },
  {
   "cell_type": "code",
   "execution_count": 5,
   "metadata": {},
   "outputs": [],
   "source": [
    "sd_mesa = df[df['college'] == 'San Diego Mesa College'].copy()"
   ]
  },
  {
   "cell_type": "code",
   "execution_count": 6,
   "metadata": {},
   "outputs": [
    {
     "data": {
      "text/plain": [
       "Reading II                             6696\n",
       "Reading IIII                           6650\n",
       "Reading III                            6647\n",
       "Reading I                              6610\n",
       "Writing II                             3423\n",
       "Calculus                               3415\n",
       "Intro to Micro Economics               3408\n",
       "Colonization: Europe                   3397\n",
       "Speaking III                           3393\n",
       "Health Economics                       3382\n",
       "Eastern Civilizations                  3378\n",
       "Developmental Economics                3353\n",
       "World History I                        3350\n",
       "Statitics                              3344\n",
       "Micro Economics                        3343\n",
       "Speaking II                            3338\n",
       "Pre-Statitics                          3334\n",
       "Reading V                              3329\n",
       "Linear Algebra II                      3319\n",
       "Macro Economics                        3317\n",
       "Intro to Colonization                  3314\n",
       "Pre-pre-Algebra                        3312\n",
       "Trigonometry                           3311\n",
       "Pre-pre-pre-pre-College Composition    3310\n",
       "Writing I                              3309\n",
       "World History II                       3308\n",
       "Pre-College Composition                3307\n",
       "Business Statitics                     3303\n",
       "Speaking IIII                          3300\n",
       "Bio Statitics                          3295\n",
       "Labor Economics                        3293\n",
       "Pre-pre-pre-College Composition        3286\n",
       "Pre-pre-College Composition            3285\n",
       "College Composition II                 3284\n",
       "Pre-Algebra                            3280\n",
       "Writing III                            3272\n",
       "Geometry                               3269\n",
       "The Industrial Revolution              3269\n",
       "American Literature                    3269\n",
       "Writing IIII                           3261\n",
       "College Composition                    3234\n",
       "Intro to Macro Economics               3233\n",
       "Algebra                                3231\n",
       "Linear Algebra                         3220\n",
       "Speaking I                             3218\n",
       "Western Civilizations                  3138\n",
       "Name: course_name, dtype: int64"
      ]
     },
     "execution_count": 6,
     "metadata": {},
     "output_type": "execute_result"
    }
   ],
   "source": [
    "sd_mesa['course_name'].value_counts()"
   ]
  },
  {
   "cell_type": "code",
   "execution_count": 7,
   "metadata": {},
   "outputs": [],
   "source": [
    "# as a visualization\n",
    "import altair as alt"
   ]
  },
  {
   "cell_type": "code",
   "execution_count": 20,
   "metadata": {},
   "outputs": [
    {
     "data": {
      "text/html": [
       "<div>\n",
       "<style scoped>\n",
       "    .dataframe tbody tr th:only-of-type {\n",
       "        vertical-align: middle;\n",
       "    }\n",
       "\n",
       "    .dataframe tbody tr th {\n",
       "        vertical-align: top;\n",
       "    }\n",
       "\n",
       "    .dataframe thead th {\n",
       "        text-align: right;\n",
       "    }\n",
       "</style>\n",
       "<table border=\"1\" class=\"dataframe\">\n",
       "  <thead>\n",
       "    <tr style=\"text-align: right;\">\n",
       "      <th></th>\n",
       "      <th>course_name</th>\n",
       "      <th>count</th>\n",
       "    </tr>\n",
       "  </thead>\n",
       "  <tbody>\n",
       "    <tr>\n",
       "      <th>0</th>\n",
       "      <td>Reading III</td>\n",
       "      <td>2278</td>\n",
       "    </tr>\n",
       "    <tr>\n",
       "      <th>1</th>\n",
       "      <td>Reading IIII</td>\n",
       "      <td>2228</td>\n",
       "    </tr>\n",
       "    <tr>\n",
       "      <th>2</th>\n",
       "      <td>Reading II</td>\n",
       "      <td>2217</td>\n",
       "    </tr>\n",
       "    <tr>\n",
       "      <th>3</th>\n",
       "      <td>Reading I</td>\n",
       "      <td>2201</td>\n",
       "    </tr>\n",
       "    <tr>\n",
       "      <th>4</th>\n",
       "      <td>Statitics</td>\n",
       "      <td>1186</td>\n",
       "    </tr>\n",
       "  </tbody>\n",
       "</table>\n",
       "</div>"
      ],
      "text/plain": [
       "    course_name  count\n",
       "0   Reading III   2278\n",
       "1  Reading IIII   2228\n",
       "2    Reading II   2217\n",
       "3     Reading I   2201\n",
       "4     Statitics   1186"
      ]
     },
     "execution_count": 20,
     "metadata": {},
     "output_type": "execute_result"
    }
   ],
   "source": [
    "data = sd_mesa[sd_mesa['year'] == 2015]['course_name'].value_counts().to_frame().reset_index()\n",
    "data.columns = ['course_name', 'count']\n",
    "data.head()"
   ]
  },
  {
   "cell_type": "code",
   "execution_count": 21,
   "metadata": {},
   "outputs": [
    {
     "data": {
      "application/vnd.vegalite.v2+json": {
       "$schema": "https://vega.github.io/schema/vega-lite/v2.4.3.json",
       "config": {
        "view": {
         "height": 300,
         "width": 400
        }
       },
       "data": {
        "values": [
         {
          "count": 2278,
          "course_name": "Reading III"
         },
         {
          "count": 2228,
          "course_name": "Reading IIII"
         },
         {
          "count": 2217,
          "course_name": "Reading II"
         },
         {
          "count": 2201,
          "course_name": "Reading I"
         },
         {
          "count": 1186,
          "course_name": "Statitics"
         },
         {
          "count": 1153,
          "course_name": "Bio Statitics"
         },
         {
          "count": 1151,
          "course_name": "World History I"
         },
         {
          "count": 1148,
          "course_name": "Pre-pre-pre-College Composition"
         },
         {
          "count": 1147,
          "course_name": "Writing II"
         },
         {
          "count": 1142,
          "course_name": "Calculus"
         },
         {
          "count": 1141,
          "course_name": "Writing I"
         },
         {
          "count": 1140,
          "course_name": "Colonization: Europe"
         },
         {
          "count": 1139,
          "course_name": "Eastern Civilizations"
         },
         {
          "count": 1134,
          "course_name": "Pre-College Composition"
         },
         {
          "count": 1133,
          "course_name": "Health Economics"
         },
         {
          "count": 1133,
          "course_name": "Reading V"
         },
         {
          "count": 1131,
          "course_name": "Writing III"
         },
         {
          "count": 1131,
          "course_name": "Macro Economics"
         },
         {
          "count": 1120,
          "course_name": "Pre-pre-Algebra"
         },
         {
          "count": 1118,
          "course_name": "Labor Economics"
         },
         {
          "count": 1115,
          "course_name": "Pre-Algebra"
         },
         {
          "count": 1112,
          "course_name": "Pre-pre-College Composition"
         },
         {
          "count": 1108,
          "course_name": "Algebra"
         },
         {
          "count": 1107,
          "course_name": "Intro to Colonization"
         },
         {
          "count": 1103,
          "course_name": "Intro to Micro Economics"
         },
         {
          "count": 1101,
          "course_name": "Micro Economics"
         },
         {
          "count": 1095,
          "course_name": "Linear Algebra II"
         },
         {
          "count": 1094,
          "course_name": "American Literature"
         },
         {
          "count": 1094,
          "course_name": "Pre-Statitics"
         },
         {
          "count": 1086,
          "course_name": "Pre-pre-pre-pre-College Composition"
         },
         {
          "count": 1086,
          "course_name": "Geometry"
         },
         {
          "count": 1084,
          "course_name": "Trigonometry"
         },
         {
          "count": 1083,
          "course_name": "Linear Algebra"
         },
         {
          "count": 1082,
          "course_name": "Speaking II"
         },
         {
          "count": 1081,
          "course_name": "College Composition II"
         },
         {
          "count": 1078,
          "course_name": "World History II"
         },
         {
          "count": 1075,
          "course_name": "Business Statitics"
         },
         {
          "count": 1073,
          "course_name": "Developmental Economics"
         },
         {
          "count": 1072,
          "course_name": "Speaking III"
         },
         {
          "count": 1066,
          "course_name": "The Industrial Revolution"
         },
         {
          "count": 1066,
          "course_name": "Speaking IIII"
         },
         {
          "count": 1063,
          "course_name": "Intro to Macro Economics"
         },
         {
          "count": 1050,
          "course_name": "Western Civilizations"
         },
         {
          "count": 1044,
          "course_name": "College Composition"
         },
         {
          "count": 1037,
          "course_name": "Writing IIII"
         },
         {
          "count": 1020,
          "course_name": "Speaking I"
         }
        ]
       },
       "encoding": {
        "x": {
         "field": "count",
         "type": "quantitative"
        },
        "y": {
         "field": "course_name",
         "scale": {
          "domain": [
           "Reading III",
           "Reading IIII",
           "Reading II",
           "Reading I",
           "Statitics",
           "Bio Statitics",
           "World History I",
           "Pre-pre-pre-College Composition",
           "Writing II",
           "Calculus",
           "Writing I",
           "Colonization: Europe",
           "Eastern Civilizations",
           "Pre-College Composition",
           "Health Economics",
           "Reading V",
           "Writing III",
           "Macro Economics",
           "Pre-pre-Algebra",
           "Labor Economics",
           "Pre-Algebra",
           "Pre-pre-College Composition",
           "Algebra",
           "Intro to Colonization",
           "Intro to Micro Economics",
           "Micro Economics",
           "Linear Algebra II",
           "American Literature",
           "Pre-Statitics",
           "Pre-pre-pre-pre-College Composition",
           "Geometry",
           "Trigonometry",
           "Linear Algebra",
           "Speaking II",
           "College Composition II",
           "World History II",
           "Business Statitics",
           "Developmental Economics",
           "Speaking III",
           "The Industrial Revolution",
           "Speaking IIII",
           "Intro to Macro Economics",
           "Western Civilizations",
           "College Composition",
           "Writing IIII",
           "Speaking I"
          ]
         },
         "type": "nominal"
        }
       },
       "mark": "bar"
      },
      "image/png": "[encoded data removed]",
      "text/plain": [
       "<VegaLite 2 object>\n",
       "\n",
       "If you see this message, it means the renderer has not been properly enabled\n",
       "for the frontend that you are using. For more information, see\n",
       "https://altair-viz.github.io/user_guide/troubleshooting.html\n"
      ]
     },
     "execution_count": 21,
     "metadata": {},
     "output_type": "execute_result"
    }
   ],
   "source": [
    "data.sort_values('count', ascending = False, inplace = True)\n",
    "\n",
    "alt.Chart(data).mark_bar().encode(\n",
    "    x = 'count:Q',\n",
    "    y = alt.Y('course_name:N', scale = alt.Scale(domain = list(data['course_name'])))\n",
    ")"
   ]
  },
  {
   "cell_type": "markdown",
   "metadata": {},
   "source": [
    "### Equity"
   ]
  },
  {
   "cell_type": "code",
   "execution_count": 25,
   "metadata": {},
   "outputs": [],
   "source": [
    "equity = sd_mesa.groupby(['year', 'race'])['course_name'].value_counts().to_frame()"
   ]
  },
  {
   "cell_type": "code",
   "execution_count": 27,
   "metadata": {},
   "outputs": [
    {
     "data": {
      "text/html": [
       "<div>\n",
       "<style scoped>\n",
       "    .dataframe tbody tr th:only-of-type {\n",
       "        vertical-align: middle;\n",
       "    }\n",
       "\n",
       "    .dataframe tbody tr th {\n",
       "        vertical-align: top;\n",
       "    }\n",
       "\n",
       "    .dataframe thead th {\n",
       "        text-align: right;\n",
       "    }\n",
       "</style>\n",
       "<table border=\"1\" class=\"dataframe\">\n",
       "  <thead>\n",
       "    <tr style=\"text-align: right;\">\n",
       "      <th></th>\n",
       "      <th>year</th>\n",
       "      <th>race</th>\n",
       "      <th>course_name</th>\n",
       "      <th>count</th>\n",
       "    </tr>\n",
       "  </thead>\n",
       "  <tbody>\n",
       "    <tr>\n",
       "      <th>0</th>\n",
       "      <td>2014</td>\n",
       "      <td>asian</td>\n",
       "      <td>Reading II</td>\n",
       "      <td>357</td>\n",
       "    </tr>\n",
       "    <tr>\n",
       "      <th>1</th>\n",
       "      <td>2014</td>\n",
       "      <td>asian</td>\n",
       "      <td>Reading IIII</td>\n",
       "      <td>343</td>\n",
       "    </tr>\n",
       "    <tr>\n",
       "      <th>2</th>\n",
       "      <td>2014</td>\n",
       "      <td>asian</td>\n",
       "      <td>Reading I</td>\n",
       "      <td>326</td>\n",
       "    </tr>\n",
       "    <tr>\n",
       "      <th>3</th>\n",
       "      <td>2014</td>\n",
       "      <td>asian</td>\n",
       "      <td>Reading III</td>\n",
       "      <td>310</td>\n",
       "    </tr>\n",
       "    <tr>\n",
       "      <th>4</th>\n",
       "      <td>2014</td>\n",
       "      <td>asian</td>\n",
       "      <td>Algebra</td>\n",
       "      <td>195</td>\n",
       "    </tr>\n",
       "  </tbody>\n",
       "</table>\n",
       "</div>"
      ],
      "text/plain": [
       "   year   race   course_name  count\n",
       "0  2014  asian    Reading II    357\n",
       "1  2014  asian  Reading IIII    343\n",
       "2  2014  asian     Reading I    326\n",
       "3  2014  asian   Reading III    310\n",
       "4  2014  asian       Algebra    195"
      ]
     },
     "execution_count": 27,
     "metadata": {},
     "output_type": "execute_result"
    }
   ],
   "source": [
    "equity.columns = ['count']\n",
    "\n",
    "equity.reset_index(inplace = True)\n",
    "\n",
    "equity.head()"
   ]
  },
  {
   "cell_type": "code",
   "execution_count": 34,
   "metadata": {},
   "outputs": [
    {
     "data": {
      "application/vnd.vegalite.v2+json": {
       "$schema": "https://vega.github.io/schema/vega-lite/v2.4.3.json",
       "config": {
        "view": {
         "height": 300,
         "width": 400
        }
       },
       "data": {
        "values": [
         {
          "count": 357,
          "course_name": "Reading II",
          "race": "asian",
          "year": 2014
         },
         {
          "count": 343,
          "course_name": "Reading IIII",
          "race": "asian",
          "year": 2014
         },
         {
          "count": 326,
          "course_name": "Reading I",
          "race": "asian",
          "year": 2014
         },
         {
          "count": 310,
          "course_name": "Reading III",
          "race": "asian",
          "year": 2014
         },
         {
          "count": 195,
          "course_name": "Algebra",
          "race": "asian",
          "year": 2014
         },
         {
          "count": 193,
          "course_name": "Intro to Micro Economics",
          "race": "asian",
          "year": 2014
         },
         {
          "count": 191,
          "course_name": "Calculus",
          "race": "asian",
          "year": 2014
         },
         {
          "count": 186,
          "course_name": "Colonization: Europe",
          "race": "asian",
          "year": 2014
         },
         {
          "count": 186,
          "course_name": "Geometry",
          "race": "asian",
          "year": 2014
         },
         {
          "count": 181,
          "course_name": "College Composition",
          "race": "asian",
          "year": 2014
         },
         {
          "count": 181,
          "course_name": "Pre-Statitics",
          "race": "asian",
          "year": 2014
         },
         {
          "count": 181,
          "course_name": "Pre-pre-pre-College Composition",
          "race": "asian",
          "year": 2014
         },
         {
          "count": 181,
          "course_name": "Writing III",
          "race": "asian",
          "year": 2014
         },
         {
          "count": 176,
          "course_name": "Developmental Economics",
          "race": "asian",
          "year": 2014
         },
         {
          "count": 176,
          "course_name": "Speaking III",
          "race": "asian",
          "year": 2014
         },
         {
          "count": 176,
          "course_name": "Writing I",
          "race": "asian",
          "year": 2014
         },
         {
          "count": 175,
          "course_name": "The Industrial Revolution",
          "race": "asian",
          "year": 2014
         },
         {
          "count": 174,
          "course_name": "Labor Economics",
          "race": "asian",
          "year": 2014
         },
         {
          "count": 174,
          "course_name": "Micro Economics",
          "race": "asian",
          "year": 2014
         },
         {
          "count": 174,
          "course_name": "Western Civilizations",
          "race": "asian",
          "year": 2014
         },
         {
          "count": 174,
          "course_name": "Writing II",
          "race": "asian",
          "year": 2014
         },
         {
          "count": 173,
          "course_name": "Pre-pre-pre-pre-College Composition",
          "race": "asian",
          "year": 2014
         },
         {
          "count": 173,
          "course_name": "Trigonometry",
          "race": "asian",
          "year": 2014
         },
         {
          "count": 172,
          "course_name": "College Composition II",
          "race": "asian",
          "year": 2014
         },
         {
          "count": 171,
          "course_name": "World History II",
          "race": "asian",
          "year": 2014
         },
         {
          "count": 169,
          "course_name": "Pre-College Composition",
          "race": "asian",
          "year": 2014
         },
         {
          "count": 168,
          "course_name": "Linear Algebra",
          "race": "asian",
          "year": 2014
         },
         {
          "count": 168,
          "course_name": "Pre-Algebra",
          "race": "asian",
          "year": 2014
         },
         {
          "count": 166,
          "course_name": "Business Statitics",
          "race": "asian",
          "year": 2014
         },
         {
          "count": 166,
          "course_name": "Intro to Macro Economics",
          "race": "asian",
          "year": 2014
         },
         {
          "count": 166,
          "course_name": "Writing IIII",
          "race": "asian",
          "year": 2014
         },
         {
          "count": 165,
          "course_name": "Intro to Colonization",
          "race": "asian",
          "year": 2014
         },
         {
          "count": 164,
          "course_name": "Bio Statitics",
          "race": "asian",
          "year": 2014
         },
         {
          "count": 162,
          "course_name": "Pre-pre-Algebra",
          "race": "asian",
          "year": 2014
         },
         {
          "count": 162,
          "course_name": "Reading V",
          "race": "asian",
          "year": 2014
         },
         {
          "count": 162,
          "course_name": "Statitics",
          "race": "asian",
          "year": 2014
         },
         {
          "count": 161,
          "course_name": "Health Economics",
          "race": "asian",
          "year": 2014
         },
         {
          "count": 160,
          "course_name": "Linear Algebra II",
          "race": "asian",
          "year": 2014
         },
         {
          "count": 158,
          "course_name": "Pre-pre-College Composition",
          "race": "asian",
          "year": 2014
         },
         {
          "count": 157,
          "course_name": "Speaking I",
          "race": "asian",
          "year": 2014
         },
         {
          "count": 156,
          "course_name": "Eastern Civilizations",
          "race": "asian",
          "year": 2014
         },
         {
          "count": 153,
          "course_name": "American Literature",
          "race": "asian",
          "year": 2014
         },
         {
          "count": 150,
          "course_name": "Speaking II",
          "race": "asian",
          "year": 2014
         },
         {
          "count": 147,
          "course_name": "World History I",
          "race": "asian",
          "year": 2014
         },
         {
          "count": 146,
          "course_name": "Macro Economics",
          "race": "asian",
          "year": 2014
         },
         {
          "count": 136,
          "course_name": "Speaking IIII",
          "race": "asian",
          "year": 2014
         },
         {
          "count": 235,
          "course_name": "Reading II",
          "race": "black",
          "year": 2014
         },
         {
          "count": 212,
          "course_name": "Reading IIII",
          "race": "black",
          "year": 2014
         },
         {
          "count": 203,
          "course_name": "Reading I",
          "race": "black",
          "year": 2014
         },
         {
          "count": 201,
          "course_name": "Reading III",
          "race": "black",
          "year": 2014
         },
         {
          "count": 129,
          "course_name": "American Literature",
          "race": "black",
          "year": 2014
         },
         {
          "count": 118,
          "course_name": "World History I",
          "race": "black",
          "year": 2014
         },
         {
          "count": 117,
          "course_name": "Intro to Macro Economics",
          "race": "black",
          "year": 2014
         },
         {
          "count": 116,
          "course_name": "Pre-College Composition",
          "race": "black",
          "year": 2014
         },
         {
          "count": 116,
          "course_name": "Pre-pre-College Composition",
          "race": "black",
          "year": 2014
         },
         {
          "count": 116,
          "course_name": "Speaking III",
          "race": "black",
          "year": 2014
         },
         {
          "count": 116,
          "course_name": "Writing I",
          "race": "black",
          "year": 2014
         },
         {
          "count": 115,
          "course_name": "Micro Economics",
          "race": "black",
          "year": 2014
         },
         {
          "count": 115,
          "course_name": "Speaking II",
          "race": "black",
          "year": 2014
         },
         {
          "count": 115,
          "course_name": "Writing III",
          "race": "black",
          "year": 2014
         },
         {
          "count": 113,
          "course_name": "Developmental Economics",
          "race": "black",
          "year": 2014
         },
         {
          "count": 113,
          "course_name": "Pre-Algebra",
          "race": "black",
          "year": 2014
         },
         {
          "count": 112,
          "course_name": "College Composition",
          "race": "black",
          "year": 2014
         },
         {
          "count": 112,
          "course_name": "Writing II",
          "race": "black",
          "year": 2014
         },
         {
          "count": 111,
          "course_name": "College Composition II",
          "race": "black",
          "year": 2014
         },
         {
          "count": 111,
          "course_name": "Geometry",
          "race": "black",
          "year": 2014
         },
         {
          "count": 111,
          "course_name": "Linear Algebra",
          "race": "black",
          "year": 2014
         },
         {
          "count": 111,
          "course_name": "Pre-Statitics",
          "race": "black",
          "year": 2014
         },
         {
          "count": 110,
          "course_name": "Calculus",
          "race": "black",
          "year": 2014
         },
         {
          "count": 110,
          "course_name": "Intro to Colonization",
          "race": "black",
          "year": 2014
         },
         {
          "count": 110,
          "course_name": "Linear Algebra II",
          "race": "black",
          "year": 2014
         },
         {
          "count": 110,
          "course_name": "The Industrial Revolution",
          "race": "black",
          "year": 2014
         },
         {
          "count": 109,
          "course_name": "Business Statitics",
          "race": "black",
          "year": 2014
         },
         {
          "count": 109,
          "course_name": "Pre-pre-pre-College Composition",
          "race": "black",
          "year": 2014
         },
         {
          "count": 108,
          "course_name": "Reading V",
          "race": "black",
          "year": 2014
         },
         {
          "count": 108,
          "course_name": "Speaking I",
          "race": "black",
          "year": 2014
         },
         {
          "count": 108,
          "course_name": "Speaking IIII",
          "race": "black",
          "year": 2014
         },
         {
          "count": 107,
          "course_name": "Health Economics",
          "race": "black",
          "year": 2014
         },
         {
          "count": 107,
          "course_name": "World History II",
          "race": "black",
          "year": 2014
         },
         {
          "count": 106,
          "course_name": "Algebra",
          "race": "black",
          "year": 2014
         },
         {
          "count": 105,
          "course_name": "Trigonometry",
          "race": "black",
          "year": 2014
         },
         {
          "count": 104,
          "course_name": "Colonization: Europe",
          "race": "black",
          "year": 2014
         },
         {
          "count": 104,
          "course_name": "Intro to Micro Economics",
          "race": "black",
          "year": 2014
         },
         {
          "count": 104,
          "course_name": "Macro Economics",
          "race": "black",
          "year": 2014
         },
         {
          "count": 103,
          "course_name": "Labor Economics",
          "race": "black",
          "year": 2014
         },
         {
          "count": 102,
          "course_name": "Western Civilizations",
          "race": "black",
          "year": 2014
         },
         {
          "count": 100,
          "course_name": "Pre-pre-pre-pre-College Composition",
          "race": "black",
          "year": 2014
         },
         {
          "count": 100,
          "course_name": "Writing IIII",
          "race": "black",
          "year": 2014
         },
         {
          "count": 97,
          "course_name": "Bio Statitics",
          "race": "black",
          "year": 2014
         },
         {
          "count": 95,
          "course_name": "Statitics",
          "race": "black",
          "year": 2014
         },
         {
          "count": 91,
          "course_name": "Pre-pre-Algebra",
          "race": "black",
          "year": 2014
         },
         {
          "count": 89,
          "course_name": "Eastern Civilizations",
          "race": "black",
          "year": 2014
         },
         {
          "count": 827,
          "course_name": "Reading IIII",
          "race": "latino",
          "year": 2014
         },
         {
          "count": 808,
          "course_name": "Reading II",
          "race": "latino",
          "year": 2014
         },
         {
          "count": 802,
          "course_name": "Reading I",
          "race": "latino",
          "year": 2014
         },
         {
          "count": 759,
          "course_name": "Reading III",
          "race": "latino",
          "year": 2014
         },
         {
          "count": 454,
          "course_name": "Business Statitics",
          "race": "latino",
          "year": 2014
         },
         {
          "count": 452,
          "course_name": "Writing IIII",
          "race": "latino",
          "year": 2014
         },
         {
          "count": 450,
          "course_name": "Intro to Micro Economics",
          "race": "latino",
          "year": 2014
         },
         {
          "count": 448,
          "course_name": "Linear Algebra II",
          "race": "latino",
          "year": 2014
         },
         {
          "count": 447,
          "course_name": "The Industrial Revolution",
          "race": "latino",
          "year": 2014
         },
         {
          "count": 445,
          "course_name": "Pre-pre-Algebra",
          "race": "latino",
          "year": 2014
         },
         {
          "count": 441,
          "course_name": "Colonization: Europe",
          "race": "latino",
          "year": 2014
         },
         {
          "count": 433,
          "course_name": "Western Civilizations",
          "race": "latino",
          "year": 2014
         },
         {
          "count": 432,
          "course_name": "American Literature",
          "race": "latino",
          "year": 2014
         },
         {
          "count": 432,
          "course_name": "Developmental Economics",
          "race": "latino",
          "year": 2014
         },
         {
          "count": 432,
          "course_name": "Pre-Algebra",
          "race": "latino",
          "year": 2014
         },
         {
          "count": 431,
          "course_name": "Pre-pre-pre-pre-College Composition",
          "race": "latino",
          "year": 2014
         },
         {
          "count": 430,
          "course_name": "Speaking II",
          "race": "latino",
          "year": 2014
         },
         {
          "count": 428,
          "course_name": "Speaking III",
          "race": "latino",
          "year": 2014
         },
         {
          "count": 427,
          "course_name": "Pre-College Composition",
          "race": "latino",
          "year": 2014
         },
         {
          "count": 424,
          "course_name": "Calculus",
          "race": "latino",
          "year": 2014
         },
         {
          "count": 424,
          "course_name": "Pre-Statitics",
          "race": "latino",
          "year": 2014
         },
         {
          "count": 423,
          "course_name": "Health Economics",
          "race": "latino",
          "year": 2014
         },
         {
          "count": 423,
          "course_name": "Labor Economics",
          "race": "latino",
          "year": 2014
         },
         {
          "count": 422,
          "course_name": "Speaking IIII",
          "race": "latino",
          "year": 2014
         },
         {
          "count": 420,
          "course_name": "Micro Economics",
          "race": "latino",
          "year": 2014
         },
         {
          "count": 419,
          "course_name": "Bio Statitics",
          "race": "latino",
          "year": 2014
         },
         {
          "count": 417,
          "course_name": "Algebra",
          "race": "latino",
          "year": 2014
         },
         {
          "count": 417,
          "course_name": "Pre-pre-College Composition",
          "race": "latino",
          "year": 2014
         },
         {
          "count": 415,
          "course_name": "Macro Economics",
          "race": "latino",
          "year": 2014
         },
         {
          "count": 414,
          "course_name": "Eastern Civilizations",
          "race": "latino",
          "year": 2014
         },
         {
          "count": 414,
          "course_name": "Intro to Colonization",
          "race": "latino",
          "year": 2014
         },
         {
          "count": 414,
          "course_name": "World History I",
          "race": "latino",
          "year": 2014
         },
         {
          "count": 414,
          "course_name": "Writing II",
          "race": "latino",
          "year": 2014
         },
         {
          "count": 412,
          "course_name": "Reading V",
          "race": "latino",
          "year": 2014
         },
         {
          "count": 410,
          "course_name": "College Composition II",
          "race": "latino",
          "year": 2014
         },
         {
          "count": 409,
          "course_name": "Trigonometry",
          "race": "latino",
          "year": 2014
         },
         {
          "count": 407,
          "course_name": "Geometry",
          "race": "latino",
          "year": 2014
         },
         {
          "count": 405,
          "course_name": "Speaking I",
          "race": "latino",
          "year": 2014
         },
         {
          "count": 399,
          "course_name": "Intro to Macro Economics",
          "race": "latino",
          "year": 2014
         },
         {
          "count": 399,
          "course_name": "Linear Algebra",
          "race": "latino",
          "year": 2014
         },
         {
          "count": 399,
          "course_name": "World History II",
          "race": "latino",
          "year": 2014
         },
         {
          "count": 395,
          "course_name": "Statitics",
          "race": "latino",
          "year": 2014
         },
         {
          "count": 393,
          "course_name": "Writing III",
          "race": "latino",
          "year": 2014
         },
         {
          "count": 386,
          "course_name": "Writing I",
          "race": "latino",
          "year": 2014
         },
         {
          "count": 384,
          "course_name": "Pre-pre-pre-College Composition",
          "race": "latino",
          "year": 2014
         },
         {
          "count": 382,
          "course_name": "College Composition",
          "race": "latino",
          "year": 2014
         },
         {
          "count": 48,
          "course_name": "Reading III",
          "race": "other",
          "year": 2014
         },
         {
          "count": 39,
          "course_name": "Reading II",
          "race": "other",
          "year": 2014
         },
         {
          "count": 35,
          "course_name": "Reading I",
          "race": "other",
          "year": 2014
         },
         {
          "count": 35,
          "course_name": "Reading IIII",
          "race": "other",
          "year": 2014
         },
         {
          "count": 30,
          "course_name": "American Literature",
          "race": "other",
          "year": 2014
         },
         {
          "count": 29,
          "course_name": "Writing II",
          "race": "other",
          "year": 2014
         },
         {
          "count": 28,
          "course_name": "College Composition",
          "race": "other",
          "year": 2014
         },
         {
          "count": 28,
          "course_name": "Colonization: Europe",
          "race": "other",
          "year": 2014
         },
         {
          "count": 26,
          "course_name": "Geometry",
          "race": "other",
          "year": 2014
         },
         {
          "count": 26,
          "course_name": "Health Economics",
          "race": "other",
          "year": 2014
         },
         {
          "count": 26,
          "course_name": "Speaking IIII",
          "race": "other",
          "year": 2014
         },
         {
          "count": 25,
          "course_name": "Business Statitics",
          "race": "other",
          "year": 2014
         },
         {
          "count": 25,
          "course_name": "Developmental Economics",
          "race": "other",
          "year": 2014
         },
         {
          "count": 25,
          "course_name": "Linear Algebra",
          "race": "other",
          "year": 2014
         },
         {
          "count": 25,
          "course_name": "Linear Algebra II",
          "race": "other",
          "year": 2014
         },
         {
          "count": 25,
          "course_name": "Pre-Statitics",
          "race": "other",
          "year": 2014
         },
         {
          "count": 25,
          "course_name": "Pre-pre-pre-pre-College Composition",
          "race": "other",
          "year": 2014
         },
         {
          "count": 25,
          "course_name": "Speaking III",
          "race": "other",
          "year": 2014
         },
         {
          "count": 25,
          "course_name": "Trigonometry",
          "race": "other",
          "year": 2014
         },
         {
          "count": 24,
          "course_name": "Statitics",
          "race": "other",
          "year": 2014
         },
         {
          "count": 23,
          "course_name": "Labor Economics",
          "race": "other",
          "year": 2014
         },
         {
          "count": 23,
          "course_name": "Micro Economics",
          "race": "other",
          "year": 2014
         },
         {
          "count": 23,
          "course_name": "World History II",
          "race": "other",
          "year": 2014
         },
         {
          "count": 22,
          "course_name": "Bio Statitics",
          "race": "other",
          "year": 2014
         },
         {
          "count": 22,
          "course_name": "Pre-College Composition",
          "race": "other",
          "year": 2014
         },
         {
          "count": 22,
          "course_name": "Pre-pre-Algebra",
          "race": "other",
          "year": 2014
         },
         {
          "count": 22,
          "course_name": "Pre-pre-College Composition",
          "race": "other",
          "year": 2014
         },
         {
          "count": 22,
          "course_name": "Reading V",
          "race": "other",
          "year": 2014
         },
         {
          "count": 22,
          "course_name": "The Industrial Revolution",
          "race": "other",
          "year": 2014
         },
         {
          "count": 21,
          "course_name": "College Composition II",
          "race": "other",
          "year": 2014
         },
         {
          "count": 21,
          "course_name": "Macro Economics",
          "race": "other",
          "year": 2014
         },
         {
          "count": 21,
          "course_name": "Pre-Algebra",
          "race": "other",
          "year": 2014
         },
         {
          "count": 21,
          "course_name": "Speaking II",
          "race": "other",
          "year": 2014
         },
         {
          "count": 21,
          "course_name": "Writing III",
          "race": "other",
          "year": 2014
         },
         {
          "count": 20,
          "course_name": "Calculus",
          "race": "other",
          "year": 2014
         },
         {
          "count": 19,
          "course_name": "Eastern Civilizations",
          "race": "other",
          "year": 2014
         },
         {
          "count": 19,
          "course_name": "Pre-pre-pre-College Composition",
          "race": "other",
          "year": 2014
         },
         {
          "count": 19,
          "course_name": "Speaking I",
          "race": "other",
          "year": 2014
         },
         {
          "count": 19,
          "course_name": "World History I",
          "race": "other",
          "year": 2014
         },
         {
          "count": 19,
          "course_name": "Writing I",
          "race": "other",
          "year": 2014
         },
         {
          "count": 18,
          "course_name": "Western Civilizations",
          "race": "other",
          "year": 2014
         },
         {
          "count": 17,
          "course_name": "Intro to Macro Economics",
          "race": "other",
          "year": 2014
         },
         {
          "count": 17,
          "course_name": "Intro to Micro Economics",
          "race": "other",
          "year": 2014
         },
         {
          "count": 17,
          "course_name": "Writing IIII",
          "race": "other",
          "year": 2014
         },
         {
          "count": 13,
          "course_name": "Intro to Colonization",
          "race": "other",
          "year": 2014
         },
         {
          "count": 12,
          "course_name": "Algebra",
          "race": "other",
          "year": 2014
         },
         {
          "count": 808,
          "course_name": "Reading II",
          "race": "white",
          "year": 2014
         },
         {
          "count": 802,
          "course_name": "Reading III",
          "race": "white",
          "year": 2014
         },
         {
          "count": 797,
          "course_name": "Reading I",
          "race": "white",
          "year": 2014
         },
         {
          "count": 758,
          "course_name": "Reading IIII",
          "race": "white",
          "year": 2014
         },
         {
          "count": 441,
          "course_name": "Intro to Micro Economics",
          "race": "white",
          "year": 2014
         },
         {
          "count": 439,
          "course_name": "Speaking III",
          "race": "white",
          "year": 2014
         },
         {
          "count": 419,
          "course_name": "Pre-pre-College Composition",
          "race": "white",
          "year": 2014
         },
         {
          "count": 419,
          "course_name": "Speaking II",
          "race": "white",
          "year": 2014
         },
         {
          "count": 416,
          "course_name": "Writing II",
          "race": "white",
          "year": 2014
         },
         {
          "count": 414,
          "course_name": "Eastern Civilizations",
          "race": "white",
          "year": 2014
         },
         {
          "count": 412,
          "course_name": "Writing IIII",
          "race": "white",
          "year": 2014
         },
         {
          "count": 411,
          "course_name": "World History II",
          "race": "white",
          "year": 2014
         },
         {
          "count": 405,
          "course_name": "Speaking I",
          "race": "white",
          "year": 2014
         },
         {
          "count": 401,
          "course_name": "Micro Economics",
          "race": "white",
          "year": 2014
         },
         {
          "count": 400,
          "course_name": "Macro Economics",
          "race": "white",
          "year": 2014
         },
         {
          "count": 398,
          "course_name": "Linear Algebra",
          "race": "white",
          "year": 2014
         },
         {
          "count": 398,
          "course_name": "Pre-Statitics",
          "race": "white",
          "year": 2014
         },
         {
          "count": 395,
          "course_name": "Linear Algebra II",
          "race": "white",
          "year": 2014
         },
         {
          "count": 392,
          "course_name": "Pre-pre-Algebra",
          "race": "white",
          "year": 2014
         },
         {
          "count": 391,
          "course_name": "Business Statitics",
          "race": "white",
          "year": 2014
         },
         {
          "count": 389,
          "course_name": "Calculus",
          "race": "white",
          "year": 2014
         },
         {
          "count": 389,
          "course_name": "Pre-pre-pre-College Composition",
          "race": "white",
          "year": 2014
         },
         {
          "count": 389,
          "course_name": "Trigonometry",
          "race": "white",
          "year": 2014
         },
         {
          "count": 388,
          "course_name": "Health Economics",
          "race": "white",
          "year": 2014
         },
         {
          "count": 385,
          "course_name": "Geometry",
          "race": "white",
          "year": 2014
         },
         {
          "count": 385,
          "course_name": "Labor Economics",
          "race": "white",
          "year": 2014
         },
         {
          "count": 385,
          "course_name": "Statitics",
          "race": "white",
          "year": 2014
         },
         {
          "count": 383,
          "course_name": "Colonization: Europe",
          "race": "white",
          "year": 2014
         },
         {
          "count": 382,
          "course_name": "Intro to Macro Economics",
          "race": "white",
          "year": 2014
         },
         {
          "count": 382,
          "course_name": "Pre-Algebra",
          "race": "white",
          "year": 2014
         },
         {
          "count": 382,
          "course_name": "The Industrial Revolution",
          "race": "white",
          "year": 2014
         },
         {
          "count": 381,
          "course_name": "College Composition II",
          "race": "white",
          "year": 2014
         },
         {
          "count": 381,
          "course_name": "Reading V",
          "race": "white",
          "year": 2014
         },
         {
          "count": 380,
          "course_name": "Algebra",
          "race": "white",
          "year": 2014
         },
         {
          "count": 379,
          "course_name": "Pre-pre-pre-pre-College Composition",
          "race": "white",
          "year": 2014
         },
         {
          "count": 379,
          "course_name": "World History I",
          "race": "white",
          "year": 2014
         },
         {
          "count": 378,
          "course_name": "Pre-College Composition",
          "race": "white",
          "year": 2014
         },
         {
          "count": 376,
          "course_name": "Developmental Economics",
          "race": "white",
          "year": 2014
         },
         {
          "count": 375,
          "course_name": "Writing I",
          "race": "white",
          "year": 2014
         },
         {
          "count": 371,
          "course_name": "College Composition",
          "race": "white",
          "year": 2014
         },
         {
          "count": 371,
          "course_name": "Intro to Colonization",
          "race": "white",
          "year": 2014
         },
         {
          "count": 370,
          "course_name": "Writing III",
          "race": "white",
          "year": 2014
         },
         {
          "count": 369,
          "course_name": "Bio Statitics",
          "race": "white",
          "year": 2014
         },
         {
          "count": 366,
          "course_name": "Speaking IIII",
          "race": "white",
          "year": 2014
         },
         {
          "count": 359,
          "course_name": "Western Civilizations",
          "race": "white",
          "year": 2014
         },
         {
          "count": 352,
          "course_name": "American Literature",
          "race": "white",
          "year": 2014
         },
         {
          "count": 343,
          "course_name": "Reading IIII",
          "race": "asian",
          "year": 2015
         },
         {
          "count": 341,
          "course_name": "Reading II",
          "race": "asian",
          "year": 2015
         },
         {
          "count": 339,
          "course_name": "Reading III",
          "race": "asian",
          "year": 2015
         },
         {
          "count": 323,
          "course_name": "Reading I",
          "race": "asian",
          "year": 2015
         },
         {
          "count": 191,
          "course_name": "Statitics",
          "race": "asian",
          "year": 2015
         },
         {
          "count": 189,
          "course_name": "Pre-pre-pre-College Composition",
          "race": "asian",
          "year": 2015
         },
         {
          "count": 187,
          "course_name": "Eastern Civilizations",
          "race": "asian",
          "year": 2015
         },
         {
          "count": 180,
          "course_name": "Calculus",
          "race": "asian",
          "year": 2015
         },
         {
          "count": 179,
          "course_name": "Pre-pre-College Composition",
          "race": "asian",
          "year": 2015
         },
         {
          "count": 178,
          "course_name": "Pre-pre-Algebra",
          "race": "asian",
          "year": 2015
         },
         {
          "count": 176,
          "course_name": "Macro Economics",
          "race": "asian",
          "year": 2015
         },
         {
          "count": 176,
          "course_name": "Speaking IIII",
          "race": "asian",
          "year": 2015
         },
         {
          "count": 172,
          "course_name": "American Literature",
          "race": "asian",
          "year": 2015
         },
         {
          "count": 172,
          "course_name": "Writing III",
          "race": "asian",
          "year": 2015
         },
         {
          "count": 171,
          "course_name": "Business Statitics",
          "race": "asian",
          "year": 2015
         },
         {
          "count": 170,
          "course_name": "Pre-College Composition",
          "race": "asian",
          "year": 2015
         },
         {
          "count": 169,
          "course_name": "Pre-pre-pre-pre-College Composition",
          "race": "asian",
          "year": 2015
         },
         {
          "count": 168,
          "course_name": "Speaking I",
          "race": "asian",
          "year": 2015
         },
         {
          "count": 168,
          "course_name": "Writing II",
          "race": "asian",
          "year": 2015
         },
         {
          "count": 168,
          "course_name": "Writing IIII",
          "race": "asian",
          "year": 2015
         },
         {
          "count": 167,
          "course_name": "Developmental Economics",
          "race": "asian",
          "year": 2015
         },
         {
          "count": 166,
          "course_name": "Pre-Statitics",
          "race": "asian",
          "year": 2015
         },
         {
          "count": 166,
          "course_name": "Reading V",
          "race": "asian",
          "year": 2015
         },
         {
          "count": 166,
          "course_name": "World History I",
          "race": "asian",
          "year": 2015
         },
         {
          "count": 165,
          "course_name": "Intro to Macro Economics",
          "race": "asian",
          "year": 2015
         },
         {
          "count": 165,
          "course_name": "Pre-Algebra",
          "race": "asian",
          "year": 2015
         },
         {
          "count": 163,
          "course_name": "Intro to Colonization",
          "race": "asian",
          "year": 2015
         },
         {
          "count": 162,
          "course_name": "Algebra",
          "race": "asian",
          "year": 2015
         },
         {
          "count": 162,
          "course_name": "Speaking II",
          "race": "asian",
          "year": 2015
         },
         {
          "count": 162,
          "course_name": "Western Civilizations",
          "race": "asian",
          "year": 2015
         },
         {
          "count": 161,
          "course_name": "Labor Economics",
          "race": "asian",
          "year": 2015
         },
         {
          "count": 161,
          "course_name": "Writing I",
          "race": "asian",
          "year": 2015
         },
         {
          "count": 160,
          "course_name": "Intro to Micro Economics",
          "race": "asian",
          "year": 2015
         },
         {
          "count": 159,
          "course_name": "Health Economics",
          "race": "asian",
          "year": 2015
         },
         {
          "count": 158,
          "course_name": "College Composition II",
          "race": "asian",
          "year": 2015
         },
         {
          "count": 158,
          "course_name": "Colonization: Europe",
          "race": "asian",
          "year": 2015
         },
         {
          "count": 157,
          "course_name": "College Composition",
          "race": "asian",
          "year": 2015
         },
         {
          "count": 154,
          "course_name": "Bio Statitics",
          "race": "asian",
          "year": 2015
         },
         {
          "count": 154,
          "course_name": "The Industrial Revolution",
          "race": "asian",
          "year": 2015
         },
         {
          "count": 154,
          "course_name": "Trigonometry",
          "race": "asian",
          "year": 2015
         },
         {
          "count": 154,
          "course_name": "World History II",
          "race": "asian",
          "year": 2015
         },
         {
          "count": 151,
          "course_name": "Speaking III",
          "race": "asian",
          "year": 2015
         },
         {
          "count": 150,
          "course_name": "Linear Algebra",
          "race": "asian",
          "year": 2015
         },
         {
          "count": 149,
          "course_name": "Geometry",
          "race": "asian",
          "year": 2015
         },
         {
          "count": 148,
          "course_name": "Linear Algebra II",
          "race": "asian",
          "year": 2015
         },
         {
          "count": 142,
          "course_name": "Micro Economics",
          "race": "asian",
          "year": 2015
         },
         {
          "count": 237,
          "course_name": "Reading III",
          "race": "black",
          "year": 2015
         },
         {
          "count": 229,
          "course_name": "Reading I",
          "race": "black",
          "year": 2015
         },
         {
          "count": 228,
          "course_name": "Reading II",
          "race": "black",
          "year": 2015
         },
         {
          "count": 223,
          "course_name": "Reading IIII",
          "race": "black",
          "year": 2015
         },
         {
          "count": 136,
          "course_name": "Micro Economics",
          "race": "black",
          "year": 2015
         },
         {
          "count": 126,
          "course_name": "Linear Algebra",
          "race": "black",
          "year": 2015
         },
         {
          "count": 122,
          "course_name": "Pre-pre-pre-pre-College Composition",
          "race": "black",
          "year": 2015
         },
         {
          "count": 122,
          "course_name": "Speaking III",
          "race": "black",
          "year": 2015
         },
         {
          "count": 122,
          "course_name": "Statitics",
          "race": "black",
          "year": 2015
         },
         {
          "count": 121,
          "course_name": "World History I",
          "race": "black",
          "year": 2015
         },
         {
          "count": 120,
          "course_name": "Calculus",
          "race": "black",
          "year": 2015
         },
         {
          "count": 120,
          "course_name": "Writing II",
          "race": "black",
          "year": 2015
         },
         {
          "count": 119,
          "course_name": "Colonization: Europe",
          "race": "black",
          "year": 2015
         },
         {
          "count": 119,
          "course_name": "Geometry",
          "race": "black",
          "year": 2015
         },
         {
          "count": 119,
          "course_name": "Speaking IIII",
          "race": "black",
          "year": 2015
         },
         {
          "count": 119,
          "course_name": "Western Civilizations",
          "race": "black",
          "year": 2015
         },
         {
          "count": 116,
          "course_name": "Reading V",
          "race": "black",
          "year": 2015
         },
         {
          "count": 116,
          "course_name": "Writing III",
          "race": "black",
          "year": 2015
         },
         {
          "count": 115,
          "course_name": "Algebra",
          "race": "black",
          "year": 2015
         },
         {
          "count": 114,
          "course_name": "Bio Statitics",
          "race": "black",
          "year": 2015
         },
         {
          "count": 114,
          "course_name": "Intro to Micro Economics",
          "race": "black",
          "year": 2015
         },
         {
          "count": 114,
          "course_name": "Macro Economics",
          "race": "black",
          "year": 2015
         },
         {
          "count": 113,
          "course_name": "College Composition",
          "race": "black",
          "year": 2015
         },
         {
          "count": 113,
          "course_name": "Intro to Colonization",
          "race": "black",
          "year": 2015
         },
         {
          "count": 113,
          "course_name": "Trigonometry",
          "race": "black",
          "year": 2015
         },
         {
          "count": 113,
          "course_name": "World History II",
          "race": "black",
          "year": 2015
         },
         {
          "count": 111,
          "course_name": "Pre-College Composition",
          "race": "black",
          "year": 2015
         },
         {
          "count": 110,
          "course_name": "Health Economics",
          "race": "black",
          "year": 2015
         },
         {
          "count": 110,
          "course_name": "Writing I",
          "race": "black",
          "year": 2015
         },
         {
          "count": 109,
          "course_name": "Developmental Economics",
          "race": "black",
          "year": 2015
         },
         {
          "count": 108,
          "course_name": "Eastern Civilizations",
          "race": "black",
          "year": 2015
         },
         {
          "count": 108,
          "course_name": "Labor Economics",
          "race": "black",
          "year": 2015
         },
         {
          "count": 108,
          "course_name": "Speaking II",
          "race": "black",
          "year": 2015
         },
         {
          "count": 107,
          "course_name": "American Literature",
          "race": "black",
          "year": 2015
         },
         {
          "count": 107,
          "course_name": "Pre-Statitics",
          "race": "black",
          "year": 2015
         },
         {
          "count": 107,
          "course_name": "Pre-pre-Algebra",
          "race": "black",
          "year": 2015
         },
         {
          "count": 106,
          "course_name": "Intro to Macro Economics",
          "race": "black",
          "year": 2015
         },
         {
          "count": 106,
          "course_name": "Pre-pre-pre-College Composition",
          "race": "black",
          "year": 2015
         },
         {
          "count": 104,
          "course_name": "Speaking I",
          "race": "black",
          "year": 2015
         },
         {
          "count": 103,
          "course_name": "Pre-pre-College Composition",
          "race": "black",
          "year": 2015
         },
         {
          "count": 102,
          "course_name": "Pre-Algebra",
          "race": "black",
          "year": 2015
         },
         {
          "count": 99,
          "course_name": "Linear Algebra II",
          "race": "black",
          "year": 2015
         },
         {
          "count": 97,
          "course_name": "The Industrial Revolution",
          "race": "black",
          "year": 2015
         },
         {
          "count": 95,
          "course_name": "College Composition II",
          "race": "black",
          "year": 2015
         },
         {
          "count": 93,
          "course_name": "Writing IIII",
          "race": "black",
          "year": 2015
         },
         {
          "count": 90,
          "course_name": "Business Statitics",
          "race": "black",
          "year": 2015
         },
         {
          "count": 866,
          "course_name": "Reading II",
          "race": "latino",
          "year": 2015
         },
         {
          "count": 863,
          "course_name": "Reading III",
          "race": "latino",
          "year": 2015
         },
         {
          "count": 842,
          "course_name": "Reading I",
          "race": "latino",
          "year": 2015
         },
         {
          "count": 839,
          "course_name": "Reading IIII",
          "race": "latino",
          "year": 2015
         },
         {
          "count": 464,
          "course_name": "Bio Statitics",
          "race": "latino",
          "year": 2015
         },
         {
          "count": 446,
          "course_name": "Eastern Civilizations",
          "race": "latino",
          "year": 2015
         },
         {
          "count": 446,
          "course_name": "Health Economics",
          "race": "latino",
          "year": 2015
         },
         {
          "count": 441,
          "course_name": "Reading V",
          "race": "latino",
          "year": 2015
         },
         {
          "count": 441,
          "course_name": "Writing I",
          "race": "latino",
          "year": 2015
         },
         {
          "count": 440,
          "course_name": "Writing II",
          "race": "latino",
          "year": 2015
         },
         {
          "count": 435,
          "course_name": "Linear Algebra II",
          "race": "latino",
          "year": 2015
         },
         {
          "count": 435,
          "course_name": "Micro Economics",
          "race": "latino",
          "year": 2015
         },
         {
          "count": 433,
          "course_name": "Labor Economics",
          "race": "latino",
          "year": 2015
         },
         {
          "count": 432,
          "course_name": "Intro to Colonization",
          "race": "latino",
          "year": 2015
         },
         {
          "count": 429,
          "course_name": "Writing III",
          "race": "latino",
          "year": 2015
         },
         {
          "count": 427,
          "course_name": "Statitics",
          "race": "latino",
          "year": 2015
         },
         {
          "count": 424,
          "course_name": "Colonization: Europe",
          "race": "latino",
          "year": 2015
         },
         {
          "count": 424,
          "course_name": "World History I",
          "race": "latino",
          "year": 2015
         },
         {
          "count": 421,
          "course_name": "Algebra",
          "race": "latino",
          "year": 2015
         },
         {
          "count": 421,
          "course_name": "Macro Economics",
          "race": "latino",
          "year": 2015
         },
         {
          "count": 419,
          "course_name": "Pre-College Composition",
          "race": "latino",
          "year": 2015
         },
         {
          "count": 418,
          "course_name": "Pre-pre-Algebra",
          "race": "latino",
          "year": 2015
         },
         {
          "count": 416,
          "course_name": "Developmental Economics",
          "race": "latino",
          "year": 2015
         },
         {
          "count": 416,
          "course_name": "Trigonometry",
          "race": "latino",
          "year": 2015
         },
         {
          "count": 415,
          "course_name": "Intro to Macro Economics",
          "race": "latino",
          "year": 2015
         },
         {
          "count": 414,
          "course_name": "World History II",
          "race": "latino",
          "year": 2015
         },
         {
          "count": 410,
          "course_name": "Pre-pre-pre-College Composition",
          "race": "latino",
          "year": 2015
         },
         {
          "count": 410,
          "course_name": "Speaking II",
          "race": "latino",
          "year": 2015
         },
         {
          "count": 408,
          "course_name": "College Composition II",
          "race": "latino",
          "year": 2015
         },
         {
          "count": 407,
          "course_name": "Speaking III",
          "race": "latino",
          "year": 2015
         },
         {
          "count": 406,
          "course_name": "Geometry",
          "race": "latino",
          "year": 2015
         },
         {
          "count": 406,
          "course_name": "Pre-Statitics",
          "race": "latino",
          "year": 2015
         },
         {
          "count": 406,
          "course_name": "Pre-pre-College Composition",
          "race": "latino",
          "year": 2015
         },
         {
          "count": 406,
          "course_name": "Writing IIII",
          "race": "latino",
          "year": 2015
         },
         {
          "count": 405,
          "course_name": "American Literature",
          "race": "latino",
          "year": 2015
         },
         {
          "count": 405,
          "course_name": "Calculus",
          "race": "latino",
          "year": 2015
         },
         {
          "count": 405,
          "course_name": "Pre-Algebra",
          "race": "latino",
          "year": 2015
         },
         {
          "count": 403,
          "course_name": "Linear Algebra",
          "race": "latino",
          "year": 2015
         },
         {
          "count": 400,
          "course_name": "Intro to Micro Economics",
          "race": "latino",
          "year": 2015
         },
         {
          "count": 400,
          "course_name": "The Industrial Revolution",
          "race": "latino",
          "year": 2015
         },
         {
          "count": 398,
          "course_name": "Pre-pre-pre-pre-College Composition",
          "race": "latino",
          "year": 2015
         },
         {
          "count": 396,
          "course_name": "Business Statitics",
          "race": "latino",
          "year": 2015
         },
         {
          "count": 385,
          "course_name": "Western Civilizations",
          "race": "latino",
          "year": 2015
         },
         {
          "count": 384,
          "course_name": "Speaking IIII",
          "race": "latino",
          "year": 2015
         },
         {
          "count": 378,
          "course_name": "College Composition",
          "race": "latino",
          "year": 2015
         },
         {
          "count": 373,
          "course_name": "Speaking I",
          "race": "latino",
          "year": 2015
         },
         {
          "count": 51,
          "course_name": "Reading II",
          "race": "other",
          "year": 2015
         },
         {
          "count": 42,
          "course_name": "Reading I",
          "race": "other",
          "year": 2015
         },
         {
          "count": 39,
          "course_name": "Reading IIII",
          "race": "other",
          "year": 2015
         },
         {
          "count": 38,
          "course_name": "Reading V",
          "race": "other",
          "year": 2015
         },
         {
          "count": 35,
          "course_name": "Reading III",
          "race": "other",
          "year": 2015
         },
         {
          "count": 30,
          "course_name": "Pre-pre-pre-College Composition",
          "race": "other",
          "year": 2015
         },
         {
          "count": 30,
          "course_name": "Speaking II",
          "race": "other",
          "year": 2015
         },
         {
          "count": 30,
          "course_name": "Statitics",
          "race": "other",
          "year": 2015
         },
         {
          "count": 29,
          "course_name": "College Composition",
          "race": "other",
          "year": 2015
         },
         {
          "count": 29,
          "course_name": "Pre-Statitics",
          "race": "other",
          "year": 2015
         },
         {
          "count": 29,
          "course_name": "Writing II",
          "race": "other",
          "year": 2015
         },
         {
          "count": 28,
          "course_name": "Pre-College Composition",
          "race": "other",
          "year": 2015
         },
         {
          "count": 28,
          "course_name": "Trigonometry",
          "race": "other",
          "year": 2015
         },
         {
          "count": 27,
          "course_name": "Geometry",
          "race": "other",
          "year": 2015
         },
         {
          "count": 27,
          "course_name": "Linear Algebra II",
          "race": "other",
          "year": 2015
         },
         {
          "count": 27,
          "course_name": "Macro Economics",
          "race": "other",
          "year": 2015
         },
         {
          "count": 27,
          "course_name": "Writing I",
          "race": "other",
          "year": 2015
         },
         {
          "count": 26,
          "course_name": "Eastern Civilizations",
          "race": "other",
          "year": 2015
         },
         {
          "count": 26,
          "course_name": "World History I",
          "race": "other",
          "year": 2015
         },
         {
          "count": 24,
          "course_name": "Pre-Algebra",
          "race": "other",
          "year": 2015
         },
         {
          "count": 23,
          "course_name": "Health Economics",
          "race": "other",
          "year": 2015
         },
         {
          "count": 23,
          "course_name": "Intro to Macro Economics",
          "race": "other",
          "year": 2015
         },
         {
          "count": 23,
          "course_name": "Speaking III",
          "race": "other",
          "year": 2015
         },
         {
          "count": 23,
          "course_name": "Writing IIII",
          "race": "other",
          "year": 2015
         },
         {
          "count": 22,
          "course_name": "Business Statitics",
          "race": "other",
          "year": 2015
         },
         {
          "count": 22,
          "course_name": "Intro to Colonization",
          "race": "other",
          "year": 2015
         },
         {
          "count": 22,
          "course_name": "Micro Economics",
          "race": "other",
          "year": 2015
         },
         {
          "count": 22,
          "course_name": "Pre-pre-pre-pre-College Composition",
          "race": "other",
          "year": 2015
         },
         {
          "count": 22,
          "course_name": "The Industrial Revolution",
          "race": "other",
          "year": 2015
         },
         {
          "count": 22,
          "course_name": "Western Civilizations",
          "race": "other",
          "year": 2015
         },
         {
          "count": 22,
          "course_name": "Writing III",
          "race": "other",
          "year": 2015
         },
         {
          "count": 21,
          "course_name": "Intro to Micro Economics",
          "race": "other",
          "year": 2015
         },
         {
          "count": 21,
          "course_name": "Linear Algebra",
          "race": "other",
          "year": 2015
         },
         {
          "count": 21,
          "course_name": "Speaking I",
          "race": "other",
          "year": 2015
         },
         {
          "count": 20,
          "course_name": "Algebra",
          "race": "other",
          "year": 2015
         },
         {
          "count": 20,
          "course_name": "Bio Statitics",
          "race": "other",
          "year": 2015
         },
         {
          "count": 20,
          "course_name": "Calculus",
          "race": "other",
          "year": 2015
         },
         {
          "count": 19,
          "course_name": "College Composition II",
          "race": "other",
          "year": 2015
         },
         {
          "count": 19,
          "course_name": "Colonization: Europe",
          "race": "other",
          "year": 2015
         },
         {
          "count": 19,
          "course_name": "Pre-pre-College Composition",
          "race": "other",
          "year": 2015
         },
         {
          "count": 18,
          "course_name": "Developmental Economics",
          "race": "other",
          "year": 2015
         },
         {
          "count": 18,
          "course_name": "World History II",
          "race": "other",
          "year": 2015
         },
         {
          "count": 16,
          "course_name": "American Literature",
          "race": "other",
          "year": 2015
         },
         {
          "count": 16,
          "course_name": "Labor Economics",
          "race": "other",
          "year": 2015
         },
         {
          "count": 15,
          "course_name": "Pre-pre-Algebra",
          "race": "other",
          "year": 2015
         },
         {
          "count": 12,
          "course_name": "Speaking IIII",
          "race": "other",
          "year": 2015
         },
         {
          "count": 804,
          "course_name": "Reading III",
          "race": "white",
          "year": 2015
         },
         {
          "count": 784,
          "course_name": "Reading IIII",
          "race": "white",
          "year": 2015
         },
         {
          "count": 765,
          "course_name": "Reading I",
          "race": "white",
          "year": 2015
         },
         {
          "count": 731,
          "course_name": "Reading II",
          "race": "white",
          "year": 2015
         },
         {
          "count": 420,
          "course_name": "Colonization: Europe",
          "race": "white",
          "year": 2015
         },
         {
          "count": 419,
          "course_name": "Pre-Algebra",
          "race": "white",
          "year": 2015
         },
         {
          "count": 417,
          "course_name": "Calculus",
          "race": "white",
          "year": 2015
         },
         {
          "count": 416,
          "course_name": "Statitics",
          "race": "white",
          "year": 2015
         },
         {
          "count": 414,
          "course_name": "World History I",
          "race": "white",
          "year": 2015
         },
         {
          "count": 413,
          "course_name": "Pre-pre-pre-College Composition",
          "race": "white",
          "year": 2015
         },
         {
          "count": 408,
          "course_name": "Intro to Micro Economics",
          "race": "white",
          "year": 2015
         },
         {
          "count": 406,
          "course_name": "Pre-College Composition",
          "race": "white",
          "year": 2015
         },
         {
          "count": 405,
          "course_name": "Pre-pre-College Composition",
          "race": "white",
          "year": 2015
         },
         {
          "count": 402,
          "course_name": "Pre-pre-Algebra",
          "race": "white",
          "year": 2015
         },
         {
          "count": 402,
          "course_name": "Writing I",
          "race": "white",
          "year": 2015
         },
         {
          "count": 401,
          "course_name": "Bio Statitics",
          "race": "white",
          "year": 2015
         },
         {
          "count": 401,
          "course_name": "College Composition II",
          "race": "white",
          "year": 2015
         },
         {
          "count": 400,
          "course_name": "Labor Economics",
          "race": "white",
          "year": 2015
         },
         {
          "count": 396,
          "course_name": "Business Statitics",
          "race": "white",
          "year": 2015
         },
         {
          "count": 395,
          "course_name": "Health Economics",
          "race": "white",
          "year": 2015
         },
         {
          "count": 394,
          "course_name": "American Literature",
          "race": "white",
          "year": 2015
         },
         {
          "count": 393,
          "course_name": "Macro Economics",
          "race": "white",
          "year": 2015
         },
         {
          "count": 393,
          "course_name": "The Industrial Revolution",
          "race": "white",
          "year": 2015
         },
         {
          "count": 392,
          "course_name": "Writing III",
          "race": "white",
          "year": 2015
         },
         {
          "count": 390,
          "course_name": "Algebra",
          "race": "white",
          "year": 2015
         },
         {
          "count": 390,
          "course_name": "Writing II",
          "race": "white",
          "year": 2015
         },
         {
          "count": 386,
          "course_name": "Linear Algebra II",
          "race": "white",
          "year": 2015
         },
         {
          "count": 386,
          "course_name": "Pre-Statitics",
          "race": "white",
          "year": 2015
         },
         {
          "count": 385,
          "course_name": "Geometry",
          "race": "white",
          "year": 2015
         },
         {
          "count": 383,
          "course_name": "Linear Algebra",
          "race": "white",
          "year": 2015
         },
         {
          "count": 379,
          "course_name": "World History II",
          "race": "white",
          "year": 2015
         },
         {
          "count": 377,
          "course_name": "Intro to Colonization",
          "race": "white",
          "year": 2015
         },
         {
          "count": 375,
          "course_name": "Pre-pre-pre-pre-College Composition",
          "race": "white",
          "year": 2015
         },
         {
          "count": 375,
          "course_name": "Speaking IIII",
          "race": "white",
          "year": 2015
         },
         {
          "count": 373,
          "course_name": "Trigonometry",
          "race": "white",
          "year": 2015
         },
         {
          "count": 372,
          "course_name": "Eastern Civilizations",
          "race": "white",
          "year": 2015
         },
         {
          "count": 372,
          "course_name": "Reading V",
          "race": "white",
          "year": 2015
         },
         {
          "count": 372,
          "course_name": "Speaking II",
          "race": "white",
          "year": 2015
         },
         {
          "count": 369,
          "course_name": "Speaking III",
          "race": "white",
          "year": 2015
         },
         {
          "count": 367,
          "course_name": "College Composition",
          "race": "white",
          "year": 2015
         },
         {
          "count": 366,
          "course_name": "Micro Economics",
          "race": "white",
          "year": 2015
         },
         {
          "count": 363,
          "course_name": "Developmental Economics",
          "race": "white",
          "year": 2015
         },
         {
          "count": 362,
          "course_name": "Western Civilizations",
          "race": "white",
          "year": 2015
         },
         {
          "count": 354,
          "course_name": "Intro to Macro Economics",
          "race": "white",
          "year": 2015
         },
         {
          "count": 354,
          "course_name": "Speaking I",
          "race": "white",
          "year": 2015
         },
         {
          "count": 347,
          "course_name": "Writing IIII",
          "race": "white",
          "year": 2015
         },
         {
          "count": 366,
          "course_name": "Reading I",
          "race": "asian",
          "year": 2016
         },
         {
          "count": 346,
          "course_name": "Reading III",
          "race": "asian",
          "year": 2016
         },
         {
          "count": 321,
          "course_name": "Reading IIII",
          "race": "asian",
          "year": 2016
         },
         {
          "count": 310,
          "course_name": "Reading II",
          "race": "asian",
          "year": 2016
         },
         {
          "count": 193,
          "course_name": "Speaking IIII",
          "race": "asian",
          "year": 2016
         },
         {
          "count": 188,
          "course_name": "College Composition",
          "race": "asian",
          "year": 2016
         },
         {
          "count": 188,
          "course_name": "Speaking II",
          "race": "asian",
          "year": 2016
         },
         {
          "count": 183,
          "course_name": "Trigonometry",
          "race": "asian",
          "year": 2016
         },
         {
          "count": 179,
          "course_name": "Developmental Economics",
          "race": "asian",
          "year": 2016
         },
         {
          "count": 178,
          "course_name": "Linear Algebra II",
          "race": "asian",
          "year": 2016
         },
         {
          "count": 177,
          "course_name": "Health Economics",
          "race": "asian",
          "year": 2016
         },
         {
          "count": 176,
          "course_name": "Geometry",
          "race": "asian",
          "year": 2016
         },
         {
          "count": 175,
          "course_name": "Pre-College Composition",
          "race": "asian",
          "year": 2016
         },
         {
          "count": 175,
          "course_name": "Statitics",
          "race": "asian",
          "year": 2016
         },
         {
          "count": 174,
          "course_name": "World History II",
          "race": "asian",
          "year": 2016
         },
         {
          "count": 172,
          "course_name": "Pre-Statitics",
          "race": "asian",
          "year": 2016
         },
         {
          "count": 171,
          "course_name": "Pre-pre-Algebra",
          "race": "asian",
          "year": 2016
         },
         {
          "count": 170,
          "course_name": "Writing II",
          "race": "asian",
          "year": 2016
         },
         {
          "count": 170,
          "course_name": "Writing IIII",
          "race": "asian",
          "year": 2016
         },
         {
          "count": 168,
          "course_name": "Pre-Algebra",
          "race": "asian",
          "year": 2016
         },
         {
          "count": 166,
          "course_name": "Pre-pre-pre-pre-College Composition",
          "race": "asian",
          "year": 2016
         },
         {
          "count": 166,
          "course_name": "Reading V",
          "race": "asian",
          "year": 2016
         },
         {
          "count": 165,
          "course_name": "Intro to Micro Economics",
          "race": "asian",
          "year": 2016
         },
         {
          "count": 164,
          "course_name": "Bio Statitics",
          "race": "asian",
          "year": 2016
         },
         {
          "count": 164,
          "course_name": "Colonization: Europe",
          "race": "asian",
          "year": 2016
         },
         {
          "count": 163,
          "course_name": "American Literature",
          "race": "asian",
          "year": 2016
         },
         {
          "count": 163,
          "course_name": "Eastern Civilizations",
          "race": "asian",
          "year": 2016
         },
         {
          "count": 163,
          "course_name": "Macro Economics",
          "race": "asian",
          "year": 2016
         },
         {
          "count": 162,
          "course_name": "Calculus",
          "race": "asian",
          "year": 2016
         },
         {
          "count": 161,
          "course_name": "Business Statitics",
          "race": "asian",
          "year": 2016
         },
         {
          "count": 161,
          "course_name": "World History I",
          "race": "asian",
          "year": 2016
         },
         {
          "count": 161,
          "course_name": "Writing I",
          "race": "asian",
          "year": 2016
         },
         {
          "count": 158,
          "course_name": "Labor Economics",
          "race": "asian",
          "year": 2016
         },
         {
          "count": 157,
          "course_name": "Intro to Colonization",
          "race": "asian",
          "year": 2016
         },
         {
          "count": 157,
          "course_name": "Micro Economics",
          "race": "asian",
          "year": 2016
         },
         {
          "count": 157,
          "course_name": "Speaking III",
          "race": "asian",
          "year": 2016
         },
         {
          "count": 155,
          "course_name": "Pre-pre-pre-College Composition",
          "race": "asian",
          "year": 2016
         },
         {
          "count": 154,
          "course_name": "Speaking I",
          "race": "asian",
          "year": 2016
         },
         {
          "count": 153,
          "course_name": "Algebra",
          "race": "asian",
          "year": 2016
         },
         {
          "count": 153,
          "course_name": "College Composition II",
          "race": "asian",
          "year": 2016
         },
         {
          "count": 153,
          "course_name": "Intro to Macro Economics",
          "race": "asian",
          "year": 2016
         },
         {
          "count": 151,
          "course_name": "The Industrial Revolution",
          "race": "asian",
          "year": 2016
         },
         {
          "count": 150,
          "course_name": "Writing III",
          "race": "asian",
          "year": 2016
         },
         {
          "count": 146,
          "course_name": "Linear Algebra",
          "race": "asian",
          "year": 2016
         },
         {
          "count": 145,
          "course_name": "Pre-pre-College Composition",
          "race": "asian",
          "year": 2016
         },
         {
          "count": 139,
          "course_name": "Western Civilizations",
          "race": "asian",
          "year": 2016
         },
         {
          "count": 247,
          "course_name": "Reading I",
          "race": "black",
          "year": 2016
         },
         {
          "count": 246,
          "course_name": "Reading III",
          "race": "black",
          "year": 2016
         },
         {
          "count": 239,
          "course_name": "Reading IIII",
          "race": "black",
          "year": 2016
         },
         {
          "count": 219,
          "course_name": "Reading II",
          "race": "black",
          "year": 2016
         },
         {
          "count": 142,
          "course_name": "World History II",
          "race": "black",
          "year": 2016
         },
         {
          "count": 133,
          "course_name": "Pre-pre-pre-pre-College Composition",
          "race": "black",
          "year": 2016
         },
         {
          "count": 127,
          "course_name": "College Composition II",
          "race": "black",
          "year": 2016
         },
         {
          "count": 127,
          "course_name": "Speaking I",
          "race": "black",
          "year": 2016
         },
         {
          "count": 126,
          "course_name": "Business Statitics",
          "race": "black",
          "year": 2016
         },
         {
          "count": 125,
          "course_name": "Developmental Economics",
          "race": "black",
          "year": 2016
         },
         {
          "count": 125,
          "course_name": "Pre-pre-College Composition",
          "race": "black",
          "year": 2016
         },
         {
          "count": 123,
          "course_name": "Colonization: Europe",
          "race": "black",
          "year": 2016
         },
         {
          "count": 123,
          "course_name": "Macro Economics",
          "race": "black",
          "year": 2016
         },
         {
          "count": 123,
          "course_name": "Writing II",
          "race": "black",
          "year": 2016
         },
         {
          "count": 121,
          "course_name": "Intro to Colonization",
          "race": "black",
          "year": 2016
         },
         {
          "count": 119,
          "course_name": "Pre-pre-pre-College Composition",
          "race": "black",
          "year": 2016
         },
         {
          "count": 119,
          "course_name": "Writing III",
          "race": "black",
          "year": 2016
         },
         {
          "count": 118,
          "course_name": "Speaking IIII",
          "race": "black",
          "year": 2016
         },
         {
          "count": 116,
          "course_name": "World History I",
          "race": "black",
          "year": 2016
         },
         {
          "count": 115,
          "course_name": "Pre-Algebra",
          "race": "black",
          "year": 2016
         },
         {
          "count": 114,
          "course_name": "American Literature",
          "race": "black",
          "year": 2016
         },
         {
          "count": 114,
          "course_name": "Health Economics",
          "race": "black",
          "year": 2016
         },
         {
          "count": 113,
          "course_name": "Intro to Macro Economics",
          "race": "black",
          "year": 2016
         },
         {
          "count": 113,
          "course_name": "Labor Economics",
          "race": "black",
          "year": 2016
         },
         {
          "count": 112,
          "course_name": "Speaking III",
          "race": "black",
          "year": 2016
         },
         {
          "count": 110,
          "course_name": "Intro to Micro Economics",
          "race": "black",
          "year": 2016
         },
         {
          "count": 110,
          "course_name": "Trigonometry",
          "race": "black",
          "year": 2016
         },
         {
          "count": 109,
          "course_name": "Pre-College Composition",
          "race": "black",
          "year": 2016
         },
         {
          "count": 108,
          "course_name": "Reading V",
          "race": "black",
          "year": 2016
         },
         {
          "count": 107,
          "course_name": "College Composition",
          "race": "black",
          "year": 2016
         },
         {
          "count": 107,
          "course_name": "Micro Economics",
          "race": "black",
          "year": 2016
         },
         {
          "count": 107,
          "course_name": "Pre-Statitics",
          "race": "black",
          "year": 2016
         },
         {
          "count": 107,
          "course_name": "Writing I",
          "race": "black",
          "year": 2016
         },
         {
          "count": 107,
          "course_name": "Writing IIII",
          "race": "black",
          "year": 2016
         },
         {
          "count": 106,
          "course_name": "The Industrial Revolution",
          "race": "black",
          "year": 2016
         },
         {
          "count": 105,
          "course_name": "Calculus",
          "race": "black",
          "year": 2016
         },
         {
          "count": 104,
          "course_name": "Eastern Civilizations",
          "race": "black",
          "year": 2016
         },
         {
          "count": 102,
          "course_name": "Pre-pre-Algebra",
          "race": "black",
          "year": 2016
         },
         {
          "count": 101,
          "course_name": "Linear Algebra",
          "race": "black",
          "year": 2016
         },
         {
          "count": 99,
          "course_name": "Bio Statitics",
          "race": "black",
          "year": 2016
         },
         {
          "count": 98,
          "course_name": "Speaking II",
          "race": "black",
          "year": 2016
         },
         {
          "count": 96,
          "course_name": "Algebra",
          "race": "black",
          "year": 2016
         },
         {
          "count": 95,
          "course_name": "Geometry",
          "race": "black",
          "year": 2016
         },
         {
          "count": 95,
          "course_name": "Statitics",
          "race": "black",
          "year": 2016
         },
         {
          "count": 90,
          "course_name": "Western Civilizations",
          "race": "black",
          "year": 2016
         },
         {
          "count": 83,
          "course_name": "Linear Algebra II",
          "race": "black",
          "year": 2016
         },
         {
          "count": 890,
          "course_name": "Reading III",
          "race": "latino",
          "year": 2016
         },
         {
          "count": 873,
          "course_name": "Reading IIII",
          "race": "latino",
          "year": 2016
         },
         {
          "count": 854,
          "course_name": "Reading I",
          "race": "latino",
          "year": 2016
         },
         {
          "count": 836,
          "course_name": "Reading II",
          "race": "latino",
          "year": 2016
         },
         {
          "count": 452,
          "course_name": "Calculus",
          "race": "latino",
          "year": 2016
         },
         {
          "count": 447,
          "course_name": "Colonization: Europe",
          "race": "latino",
          "year": 2016
         },
         {
          "count": 447,
          "course_name": "Trigonometry",
          "race": "latino",
          "year": 2016
         },
         {
          "count": 446,
          "course_name": "Speaking IIII",
          "race": "latino",
          "year": 2016
         },
         {
          "count": 445,
          "course_name": "Writing II",
          "race": "latino",
          "year": 2016
         },
         {
          "count": 440,
          "course_name": "Speaking III",
          "race": "latino",
          "year": 2016
         },
         {
          "count": 439,
          "course_name": "Health Economics",
          "race": "latino",
          "year": 2016
         },
         {
          "count": 439,
          "course_name": "Writing I",
          "race": "latino",
          "year": 2016
         },
         {
          "count": 436,
          "course_name": "Eastern Civilizations",
          "race": "latino",
          "year": 2016
         },
         {
          "count": 430,
          "course_name": "Developmental Economics",
          "race": "latino",
          "year": 2016
         },
         {
          "count": 428,
          "course_name": "Geometry",
          "race": "latino",
          "year": 2016
         },
         {
          "count": 425,
          "course_name": "Linear Algebra II",
          "race": "latino",
          "year": 2016
         },
         {
          "count": 424,
          "course_name": "Reading V",
          "race": "latino",
          "year": 2016
         },
         {
          "count": 423,
          "course_name": "World History I",
          "race": "latino",
          "year": 2016
         },
         {
          "count": 421,
          "course_name": "The Industrial Revolution",
          "race": "latino",
          "year": 2016
         },
         {
          "count": 420,
          "course_name": "Intro to Colonization",
          "race": "latino",
          "year": 2016
         },
         {
          "count": 420,
          "course_name": "World History II",
          "race": "latino",
          "year": 2016
         },
         {
          "count": 418,
          "course_name": "Intro to Micro Economics",
          "race": "latino",
          "year": 2016
         },
         {
          "count": 418,
          "course_name": "Speaking I",
          "race": "latino",
          "year": 2016
         },
         {
          "count": 417,
          "course_name": "Labor Economics",
          "race": "latino",
          "year": 2016
         },
         {
          "count": 415,
          "course_name": "Business Statitics",
          "race": "latino",
          "year": 2016
         },
         {
          "count": 414,
          "course_name": "Bio Statitics",
          "race": "latino",
          "year": 2016
         },
         {
          "count": 413,
          "course_name": "Statitics",
          "race": "latino",
          "year": 2016
         },
         {
          "count": 411,
          "course_name": "American Literature",
          "race": "latino",
          "year": 2016
         },
         {
          "count": 411,
          "course_name": "Pre-pre-College Composition",
          "race": "latino",
          "year": 2016
         },
         {
          "count": 409,
          "course_name": "Pre-pre-pre-pre-College Composition",
          "race": "latino",
          "year": 2016
         },
         {
          "count": 408,
          "course_name": "College Composition II",
          "race": "latino",
          "year": 2016
         },
         {
          "count": 408,
          "course_name": "Macro Economics",
          "race": "latino",
          "year": 2016
         },
         {
          "count": 408,
          "course_name": "Writing IIII",
          "race": "latino",
          "year": 2016
         },
         {
          "count": 403,
          "course_name": "Intro to Macro Economics",
          "race": "latino",
          "year": 2016
         },
         {
          "count": 403,
          "course_name": "Writing III",
          "race": "latino",
          "year": 2016
         },
         {
          "count": 401,
          "course_name": "Micro Economics",
          "race": "latino",
          "year": 2016
         },
         {
          "count": 401,
          "course_name": "Pre-pre-Algebra",
          "race": "latino",
          "year": 2016
         },
         {
          "count": 400,
          "course_name": "College Composition",
          "race": "latino",
          "year": 2016
         },
         {
          "count": 397,
          "course_name": "Linear Algebra",
          "race": "latino",
          "year": 2016
         },
         {
          "count": 395,
          "course_name": "Speaking II",
          "race": "latino",
          "year": 2016
         },
         {
          "count": 391,
          "course_name": "Pre-Algebra",
          "race": "latino",
          "year": 2016
         },
         {
          "count": 390,
          "course_name": "Pre-pre-pre-College Composition",
          "race": "latino",
          "year": 2016
         },
         {
          "count": 385,
          "course_name": "Algebra",
          "race": "latino",
          "year": 2016
         },
         {
          "count": 384,
          "course_name": "Pre-Statitics",
          "race": "latino",
          "year": 2016
         },
         {
          "count": 377,
          "course_name": "Pre-College Composition",
          "race": "latino",
          "year": 2016
         },
         {
          "count": 372,
          "course_name": "Western Civilizations",
          "race": "latino",
          "year": 2016
         },
         {
          "count": 43,
          "course_name": "Reading III",
          "race": "other",
          "year": 2016
         },
         {
          "count": 40,
          "course_name": "Reading II",
          "race": "other",
          "year": 2016
         },
         {
          "count": 40,
          "course_name": "Reading IIII",
          "race": "other",
          "year": 2016
         },
         {
          "count": 36,
          "course_name": "Reading I",
          "race": "other",
          "year": 2016
         },
         {
          "count": 33,
          "course_name": "Intro to Micro Economics",
          "race": "other",
          "year": 2016
         },
         {
          "count": 30,
          "course_name": "College Composition II",
          "race": "other",
          "year": 2016
         },
         {
          "count": 28,
          "course_name": "Pre-College Composition",
          "race": "other",
          "year": 2016
         },
         {
          "count": 26,
          "course_name": "American Literature",
          "race": "other",
          "year": 2016
         },
         {
          "count": 26,
          "course_name": "Intro to Macro Economics",
          "race": "other",
          "year": 2016
         },
         {
          "count": 26,
          "course_name": "Reading V",
          "race": "other",
          "year": 2016
         },
         {
          "count": 26,
          "course_name": "Western Civilizations",
          "race": "other",
          "year": 2016
         },
         {
          "count": 26,
          "course_name": "World History I",
          "race": "other",
          "year": 2016
         },
         {
          "count": 25,
          "course_name": "College Composition",
          "race": "other",
          "year": 2016
         },
         {
          "count": 25,
          "course_name": "Intro to Colonization",
          "race": "other",
          "year": 2016
         },
         {
          "count": 25,
          "course_name": "Micro Economics",
          "race": "other",
          "year": 2016
         },
         {
          "count": 25,
          "course_name": "Pre-pre-pre-pre-College Composition",
          "race": "other",
          "year": 2016
         },
         {
          "count": 25,
          "course_name": "Writing III",
          "race": "other",
          "year": 2016
         },
         {
          "count": 24,
          "course_name": "Linear Algebra II",
          "race": "other",
          "year": 2016
         },
         {
          "count": 24,
          "course_name": "Pre-Statitics",
          "race": "other",
          "year": 2016
         },
         {
          "count": 24,
          "course_name": "The Industrial Revolution",
          "race": "other",
          "year": 2016
         },
         {
          "count": 24,
          "course_name": "Writing II",
          "race": "other",
          "year": 2016
         },
         {
          "count": 23,
          "course_name": "Geometry",
          "race": "other",
          "year": 2016
         },
         {
          "count": 23,
          "course_name": "Labor Economics",
          "race": "other",
          "year": 2016
         },
         {
          "count": 23,
          "course_name": "Speaking I",
          "race": "other",
          "year": 2016
         },
         {
          "count": 23,
          "course_name": "Speaking III",
          "race": "other",
          "year": 2016
         },
         {
          "count": 23,
          "course_name": "Speaking IIII",
          "race": "other",
          "year": 2016
         },
         {
          "count": 22,
          "course_name": "Colonization: Europe",
          "race": "other",
          "year": 2016
         },
         {
          "count": 22,
          "course_name": "Health Economics",
          "race": "other",
          "year": 2016
         },
         {
          "count": 22,
          "course_name": "Pre-pre-Algebra",
          "race": "other",
          "year": 2016
         },
         {
          "count": 22,
          "course_name": "Pre-pre-College Composition",
          "race": "other",
          "year": 2016
         },
         {
          "count": 21,
          "course_name": "World History II",
          "race": "other",
          "year": 2016
         },
         {
          "count": 21,
          "course_name": "Writing I",
          "race": "other",
          "year": 2016
         },
         {
          "count": 20,
          "course_name": "Business Statitics",
          "race": "other",
          "year": 2016
         },
         {
          "count": 20,
          "course_name": "Developmental Economics",
          "race": "other",
          "year": 2016
         },
         {
          "count": 20,
          "course_name": "Eastern Civilizations",
          "race": "other",
          "year": 2016
         },
         {
          "count": 20,
          "course_name": "Pre-pre-pre-College Composition",
          "race": "other",
          "year": 2016
         },
         {
          "count": 19,
          "course_name": "Algebra",
          "race": "other",
          "year": 2016
         },
         {
          "count": 19,
          "course_name": "Statitics",
          "race": "other",
          "year": 2016
         },
         {
          "count": 18,
          "course_name": "Bio Statitics",
          "race": "other",
          "year": 2016
         },
         {
          "count": 18,
          "course_name": "Linear Algebra",
          "race": "other",
          "year": 2016
         },
         {
          "count": 18,
          "course_name": "Pre-Algebra",
          "race": "other",
          "year": 2016
         },
         {
          "count": 18,
          "course_name": "Speaking II",
          "race": "other",
          "year": 2016
         },
         {
          "count": 16,
          "course_name": "Calculus",
          "race": "other",
          "year": 2016
         },
         {
          "count": 16,
          "course_name": "Macro Economics",
          "race": "other",
          "year": 2016
         },
         {
          "count": 15,
          "course_name": "Trigonometry",
          "race": "other",
          "year": 2016
         },
         {
          "count": 13,
          "course_name": "Writing IIII",
          "race": "other",
          "year": 2016
         },
         {
          "count": 827,
          "course_name": "Reading II",
          "race": "white",
          "year": 2016
         },
         {
          "count": 774,
          "course_name": "Reading IIII",
          "race": "white",
          "year": 2016
         },
         {
          "count": 743,
          "course_name": "Reading I",
          "race": "white",
          "year": 2016
         },
         {
          "count": 724,
          "course_name": "Reading III",
          "race": "white",
          "year": 2016
         },
         {
          "count": 424,
          "course_name": "Eastern Civilizations",
          "race": "white",
          "year": 2016
         },
         {
          "count": 422,
          "course_name": "Speaking II",
          "race": "white",
          "year": 2016
         },
         {
          "count": 419,
          "course_name": "Micro Economics",
          "race": "white",
          "year": 2016
         },
         {
          "count": 414,
          "course_name": "Pre-Statitics",
          "race": "white",
          "year": 2016
         },
         {
          "count": 411,
          "course_name": "Intro to Colonization",
          "race": "white",
          "year": 2016
         },
         {
          "count": 405,
          "course_name": "Speaking III",
          "race": "white",
          "year": 2016
         },
         {
          "count": 404,
          "course_name": "Calculus",
          "race": "white",
          "year": 2016
         },
         {
          "count": 404,
          "course_name": "Developmental Economics",
          "race": "white",
          "year": 2016
         },
         {
          "count": 396,
          "course_name": "College Composition",
          "race": "white",
          "year": 2016
         },
         {
          "count": 396,
          "course_name": "Speaking IIII",
          "race": "white",
          "year": 2016
         },
         {
          "count": 396,
          "course_name": "World History I",
          "race": "white",
          "year": 2016
         },
         {
          "count": 395,
          "course_name": "Statitics",
          "race": "white",
          "year": 2016
         },
         {
          "count": 394,
          "course_name": "Intro to Macro Economics",
          "race": "white",
          "year": 2016
         },
         {
          "count": 392,
          "course_name": "Health Economics",
          "race": "white",
          "year": 2016
         },
         {
          "count": 390,
          "course_name": "College Composition II",
          "race": "white",
          "year": 2016
         },
         {
          "count": 390,
          "course_name": "Macro Economics",
          "race": "white",
          "year": 2016
         },
         {
          "count": 387,
          "course_name": "Reading V",
          "race": "white",
          "year": 2016
         },
         {
          "count": 384,
          "course_name": "Pre-pre-Algebra",
          "race": "white",
          "year": 2016
         },
         {
          "count": 383,
          "course_name": "Pre-pre-pre-pre-College Composition",
          "race": "white",
          "year": 2016
         },
         {
          "count": 382,
          "course_name": "Speaking I",
          "race": "white",
          "year": 2016
         },
         {
          "count": 379,
          "course_name": "Writing IIII",
          "race": "white",
          "year": 2016
         },
         {
          "count": 376,
          "course_name": "Bio Statitics",
          "race": "white",
          "year": 2016
         },
         {
          "count": 376,
          "course_name": "Linear Algebra II",
          "race": "white",
          "year": 2016
         },
         {
          "count": 375,
          "course_name": "Western Civilizations",
          "race": "white",
          "year": 2016
         },
         {
          "count": 374,
          "course_name": "Intro to Micro Economics",
          "race": "white",
          "year": 2016
         },
         {
          "count": 374,
          "course_name": "Linear Algebra",
          "race": "white",
          "year": 2016
         },
         {
          "count": 372,
          "course_name": "Pre-College Composition",
          "race": "white",
          "year": 2016
         },
         {
          "count": 372,
          "course_name": "Pre-pre-pre-College Composition",
          "race": "white",
          "year": 2016
         },
         {
          "count": 371,
          "course_name": "Trigonometry",
          "race": "white",
          "year": 2016
         },
         {
          "count": 369,
          "course_name": "Writing II",
          "race": "white",
          "year": 2016
         },
         {
          "count": 368,
          "course_name": "Writing I",
          "race": "white",
          "year": 2016
         },
         {
          "count": 365,
          "course_name": "American Literature",
          "race": "white",
          "year": 2016
         },
         {
          "count": 365,
          "course_name": "The Industrial Revolution",
          "race": "white",
          "year": 2016
         },
         {
          "count": 364,
          "course_name": "Writing III",
          "race": "white",
          "year": 2016
         },
         {
          "count": 362,
          "course_name": "World History II",
          "race": "white",
          "year": 2016
         },
         {
          "count": 361,
          "course_name": "Business Statitics",
          "race": "white",
          "year": 2016
         },
         {
          "count": 360,
          "course_name": "Algebra",
          "race": "white",
          "year": 2016
         },
         {
          "count": 359,
          "course_name": "Colonization: Europe",
          "race": "white",
          "year": 2016
         },
         {
          "count": 357,
          "course_name": "Pre-Algebra",
          "race": "white",
          "year": 2016
         },
         {
          "count": 356,
          "course_name": "Labor Economics",
          "race": "white",
          "year": 2016
         },
         {
          "count": 346,
          "course_name": "Geometry",
          "race": "white",
          "year": 2016
         },
         {
          "count": 338,
          "course_name": "Pre-pre-College Composition",
          "race": "white",
          "year": 2016
         }
        ]
       },
       "encoding": {
        "color": {
         "field": "race",
         "type": "nominal"
        },
        "column": {
         "field": "year",
         "type": "quantitative"
        },
        "x": {
         "axis": {
          "format": "%"
         },
         "field": "count",
         "stack": "normalize",
         "type": "quantitative"
        },
        "y": {
         "field": "course_name",
         "type": "nominal"
        }
       },
       "mark": "bar",
       "width": 200
      },
      "image/png": "[encoded data removed]",
      "text/plain": [
       "<VegaLite 2 object>\n",
       "\n",
       "If you see this message, it means the renderer has not been properly enabled\n",
       "for the frontend that you are using. For more information, see\n",
       "https://altair-viz.github.io/user_guide/troubleshooting.html\n"
      ]
     },
     "execution_count": 34,
     "metadata": {},
     "output_type": "execute_result"
    }
   ],
   "source": [
    "alt.Chart(equity).mark_bar().encode(\n",
    "    x = alt.X(\"count:Q\", stack = 'normalize', axis = alt.Axis(format = '%')),\n",
    "    y = alt.Y(\"course_name:N\"),\n",
    "    color = alt.Color(\"race:N\"),\n",
    "    column = alt.Column(\"year\")\n",
    ").properties(\n",
    "    width = 200,\n",
    ")"
   ]
  },
  {
   "cell_type": "markdown",
   "metadata": {},
   "source": [
    "#### diff between part-time and full-time students"
   ]
  },
  {
   "cell_type": "code",
   "execution_count": 37,
   "metadata": {},
   "outputs": [
    {
     "data": {
      "text/html": [
       "<div>\n",
       "<style scoped>\n",
       "    .dataframe tbody tr th:only-of-type {\n",
       "        vertical-align: middle;\n",
       "    }\n",
       "\n",
       "    .dataframe tbody tr th {\n",
       "        vertical-align: top;\n",
       "    }\n",
       "\n",
       "    .dataframe thead th {\n",
       "        text-align: right;\n",
       "    }\n",
       "</style>\n",
       "<table border=\"1\" class=\"dataframe\">\n",
       "  <thead>\n",
       "    <tr style=\"text-align: right;\">\n",
       "      <th>intent</th>\n",
       "      <th>AA</th>\n",
       "      <th>credential</th>\n",
       "      <th>transfer</th>\n",
       "      <th>All</th>\n",
       "    </tr>\n",
       "    <tr>\n",
       "      <th>full_time</th>\n",
       "      <th></th>\n",
       "      <th></th>\n",
       "      <th></th>\n",
       "      <th></th>\n",
       "    </tr>\n",
       "  </thead>\n",
       "  <tbody>\n",
       "    <tr>\n",
       "      <th>full-time</th>\n",
       "      <td>0.063152</td>\n",
       "      <td>0.063925</td>\n",
       "      <td>0.192803</td>\n",
       "      <td>0.31988</td>\n",
       "    </tr>\n",
       "    <tr>\n",
       "      <th>part-time</th>\n",
       "      <td>0.135571</td>\n",
       "      <td>0.135813</td>\n",
       "      <td>0.408736</td>\n",
       "      <td>0.68012</td>\n",
       "    </tr>\n",
       "    <tr>\n",
       "      <th>All</th>\n",
       "      <td>0.199738</td>\n",
       "      <td>0.601539</td>\n",
       "      <td>0.198723</td>\n",
       "      <td>1.00000</td>\n",
       "    </tr>\n",
       "  </tbody>\n",
       "</table>\n",
       "</div>"
      ],
      "text/plain": [
       "intent           AA  credential  transfer      All\n",
       "full_time                                         \n",
       "full-time  0.063152    0.063925  0.192803  0.31988\n",
       "part-time  0.135571    0.135813  0.408736  0.68012\n",
       "All        0.199738    0.601539  0.198723  1.00000"
      ]
     },
     "execution_count": 37,
     "metadata": {},
     "output_type": "execute_result"
    }
   ],
   "source": [
    "pd.crosstab(sd_mesa['full_time'], sd_mesa['intent'], normalize = True, margins = True)"
   ]
  },
  {
   "cell_type": "code",
   "execution_count": 52,
   "metadata": {},
   "outputs": [
    {
     "data": {
      "text/html": [
       "<div>\n",
       "<style scoped>\n",
       "    .dataframe tbody tr th:only-of-type {\n",
       "        vertical-align: middle;\n",
       "    }\n",
       "\n",
       "    .dataframe tbody tr th {\n",
       "        vertical-align: top;\n",
       "    }\n",
       "\n",
       "    .dataframe thead th {\n",
       "        text-align: right;\n",
       "    }\n",
       "</style>\n",
       "<table border=\"1\" class=\"dataframe\">\n",
       "  <thead>\n",
       "    <tr style=\"text-align: right;\">\n",
       "      <th></th>\n",
       "      <th>year</th>\n",
       "      <th>race</th>\n",
       "      <th>full_time</th>\n",
       "      <th>intent</th>\n",
       "      <th>units</th>\n",
       "      <th>share</th>\n",
       "    </tr>\n",
       "  </thead>\n",
       "  <tbody>\n",
       "    <tr>\n",
       "      <th>0</th>\n",
       "      <td>2014</td>\n",
       "      <td>asian</td>\n",
       "      <td>full-time</td>\n",
       "      <td>AA</td>\n",
       "      <td>1729.0</td>\n",
       "      <td>0.203460</td>\n",
       "    </tr>\n",
       "    <tr>\n",
       "      <th>1</th>\n",
       "      <td>2014</td>\n",
       "      <td>asian</td>\n",
       "      <td>full-time</td>\n",
       "      <td>credential</td>\n",
       "      <td>1656.0</td>\n",
       "      <td>0.194869</td>\n",
       "    </tr>\n",
       "    <tr>\n",
       "      <th>2</th>\n",
       "      <td>2014</td>\n",
       "      <td>asian</td>\n",
       "      <td>full-time</td>\n",
       "      <td>transfer</td>\n",
       "      <td>5113.0</td>\n",
       "      <td>0.601671</td>\n",
       "    </tr>\n",
       "    <tr>\n",
       "      <th>3</th>\n",
       "      <td>2014</td>\n",
       "      <td>asian</td>\n",
       "      <td>part-time</td>\n",
       "      <td>AA</td>\n",
       "      <td>3556.0</td>\n",
       "      <td>0.197205</td>\n",
       "    </tr>\n",
       "    <tr>\n",
       "      <th>4</th>\n",
       "      <td>2014</td>\n",
       "      <td>asian</td>\n",
       "      <td>part-time</td>\n",
       "      <td>credential</td>\n",
       "      <td>3628.0</td>\n",
       "      <td>0.201198</td>\n",
       "    </tr>\n",
       "    <tr>\n",
       "      <th>5</th>\n",
       "      <td>2014</td>\n",
       "      <td>asian</td>\n",
       "      <td>part-time</td>\n",
       "      <td>transfer</td>\n",
       "      <td>10848.0</td>\n",
       "      <td>0.601597</td>\n",
       "    </tr>\n",
       "    <tr>\n",
       "      <th>6</th>\n",
       "      <td>2014</td>\n",
       "      <td>black</td>\n",
       "      <td>full-time</td>\n",
       "      <td>AA</td>\n",
       "      <td>1069.0</td>\n",
       "      <td>0.190961</td>\n",
       "    </tr>\n",
       "    <tr>\n",
       "      <th>7</th>\n",
       "      <td>2014</td>\n",
       "      <td>black</td>\n",
       "      <td>full-time</td>\n",
       "      <td>credential</td>\n",
       "      <td>1055.0</td>\n",
       "      <td>0.188460</td>\n",
       "    </tr>\n",
       "    <tr>\n",
       "      <th>8</th>\n",
       "      <td>2014</td>\n",
       "      <td>black</td>\n",
       "      <td>full-time</td>\n",
       "      <td>transfer</td>\n",
       "      <td>3474.0</td>\n",
       "      <td>0.620579</td>\n",
       "    </tr>\n",
       "    <tr>\n",
       "      <th>9</th>\n",
       "      <td>2014</td>\n",
       "      <td>black</td>\n",
       "      <td>part-time</td>\n",
       "      <td>AA</td>\n",
       "      <td>2279.0</td>\n",
       "      <td>0.202632</td>\n",
       "    </tr>\n",
       "    <tr>\n",
       "      <th>10</th>\n",
       "      <td>2014</td>\n",
       "      <td>black</td>\n",
       "      <td>part-time</td>\n",
       "      <td>credential</td>\n",
       "      <td>2299.0</td>\n",
       "      <td>0.204410</td>\n",
       "    </tr>\n",
       "    <tr>\n",
       "      <th>11</th>\n",
       "      <td>2014</td>\n",
       "      <td>black</td>\n",
       "      <td>part-time</td>\n",
       "      <td>transfer</td>\n",
       "      <td>6669.0</td>\n",
       "      <td>0.592958</td>\n",
       "    </tr>\n",
       "    <tr>\n",
       "      <th>12</th>\n",
       "      <td>2014</td>\n",
       "      <td>latino</td>\n",
       "      <td>full-time</td>\n",
       "      <td>AA</td>\n",
       "      <td>4149.0</td>\n",
       "      <td>0.199021</td>\n",
       "    </tr>\n",
       "    <tr>\n",
       "      <th>13</th>\n",
       "      <td>2014</td>\n",
       "      <td>latino</td>\n",
       "      <td>full-time</td>\n",
       "      <td>credential</td>\n",
       "      <td>4121.0</td>\n",
       "      <td>0.197678</td>\n",
       "    </tr>\n",
       "    <tr>\n",
       "      <th>14</th>\n",
       "      <td>2014</td>\n",
       "      <td>latino</td>\n",
       "      <td>full-time</td>\n",
       "      <td>transfer</td>\n",
       "      <td>12577.0</td>\n",
       "      <td>0.603300</td>\n",
       "    </tr>\n",
       "    <tr>\n",
       "      <th>15</th>\n",
       "      <td>2014</td>\n",
       "      <td>latino</td>\n",
       "      <td>part-time</td>\n",
       "      <td>AA</td>\n",
       "      <td>8810.0</td>\n",
       "      <td>0.199434</td>\n",
       "    </tr>\n",
       "    <tr>\n",
       "      <th>16</th>\n",
       "      <td>2014</td>\n",
       "      <td>latino</td>\n",
       "      <td>part-time</td>\n",
       "      <td>credential</td>\n",
       "      <td>8610.0</td>\n",
       "      <td>0.194907</td>\n",
       "    </tr>\n",
       "    <tr>\n",
       "      <th>17</th>\n",
       "      <td>2014</td>\n",
       "      <td>latino</td>\n",
       "      <td>part-time</td>\n",
       "      <td>transfer</td>\n",
       "      <td>26755.0</td>\n",
       "      <td>0.605659</td>\n",
       "    </tr>\n",
       "    <tr>\n",
       "      <th>18</th>\n",
       "      <td>2014</td>\n",
       "      <td>other</td>\n",
       "      <td>full-time</td>\n",
       "      <td>AA</td>\n",
       "      <td>239.0</td>\n",
       "      <td>0.226326</td>\n",
       "    </tr>\n",
       "    <tr>\n",
       "      <th>19</th>\n",
       "      <td>2014</td>\n",
       "      <td>other</td>\n",
       "      <td>full-time</td>\n",
       "      <td>credential</td>\n",
       "      <td>204.0</td>\n",
       "      <td>0.193182</td>\n",
       "    </tr>\n",
       "    <tr>\n",
       "      <th>20</th>\n",
       "      <td>2014</td>\n",
       "      <td>other</td>\n",
       "      <td>full-time</td>\n",
       "      <td>transfer</td>\n",
       "      <td>613.0</td>\n",
       "      <td>0.580492</td>\n",
       "    </tr>\n",
       "    <tr>\n",
       "      <th>21</th>\n",
       "      <td>2014</td>\n",
       "      <td>other</td>\n",
       "      <td>part-time</td>\n",
       "      <td>AA</td>\n",
       "      <td>476.0</td>\n",
       "      <td>0.204029</td>\n",
       "    </tr>\n",
       "    <tr>\n",
       "      <th>22</th>\n",
       "      <td>2014</td>\n",
       "      <td>other</td>\n",
       "      <td>part-time</td>\n",
       "      <td>credential</td>\n",
       "      <td>476.0</td>\n",
       "      <td>0.204029</td>\n",
       "    </tr>\n",
       "    <tr>\n",
       "      <th>23</th>\n",
       "      <td>2014</td>\n",
       "      <td>other</td>\n",
       "      <td>part-time</td>\n",
       "      <td>transfer</td>\n",
       "      <td>1381.0</td>\n",
       "      <td>0.591942</td>\n",
       "    </tr>\n",
       "    <tr>\n",
       "      <th>24</th>\n",
       "      <td>2014</td>\n",
       "      <td>white</td>\n",
       "      <td>full-time</td>\n",
       "      <td>AA</td>\n",
       "      <td>3740.0</td>\n",
       "      <td>0.195678</td>\n",
       "    </tr>\n",
       "    <tr>\n",
       "      <th>25</th>\n",
       "      <td>2014</td>\n",
       "      <td>white</td>\n",
       "      <td>full-time</td>\n",
       "      <td>credential</td>\n",
       "      <td>3865.0</td>\n",
       "      <td>0.202218</td>\n",
       "    </tr>\n",
       "    <tr>\n",
       "      <th>26</th>\n",
       "      <td>2014</td>\n",
       "      <td>white</td>\n",
       "      <td>full-time</td>\n",
       "      <td>transfer</td>\n",
       "      <td>11508.0</td>\n",
       "      <td>0.602103</td>\n",
       "    </tr>\n",
       "    <tr>\n",
       "      <th>27</th>\n",
       "      <td>2014</td>\n",
       "      <td>white</td>\n",
       "      <td>part-time</td>\n",
       "      <td>AA</td>\n",
       "      <td>8369.0</td>\n",
       "      <td>0.200043</td>\n",
       "    </tr>\n",
       "    <tr>\n",
       "      <th>28</th>\n",
       "      <td>2014</td>\n",
       "      <td>white</td>\n",
       "      <td>part-time</td>\n",
       "      <td>credential</td>\n",
       "      <td>8421.0</td>\n",
       "      <td>0.201286</td>\n",
       "    </tr>\n",
       "    <tr>\n",
       "      <th>29</th>\n",
       "      <td>2014</td>\n",
       "      <td>white</td>\n",
       "      <td>part-time</td>\n",
       "      <td>transfer</td>\n",
       "      <td>25046.0</td>\n",
       "      <td>0.598671</td>\n",
       "    </tr>\n",
       "    <tr>\n",
       "      <th>...</th>\n",
       "      <td>...</td>\n",
       "      <td>...</td>\n",
       "      <td>...</td>\n",
       "      <td>...</td>\n",
       "      <td>...</td>\n",
       "      <td>...</td>\n",
       "    </tr>\n",
       "    <tr>\n",
       "      <th>60</th>\n",
       "      <td>2016</td>\n",
       "      <td>asian</td>\n",
       "      <td>full-time</td>\n",
       "      <td>AA</td>\n",
       "      <td>1570.0</td>\n",
       "      <td>0.191767</td>\n",
       "    </tr>\n",
       "    <tr>\n",
       "      <th>61</th>\n",
       "      <td>2016</td>\n",
       "      <td>asian</td>\n",
       "      <td>full-time</td>\n",
       "      <td>credential</td>\n",
       "      <td>1649.0</td>\n",
       "      <td>0.201417</td>\n",
       "    </tr>\n",
       "    <tr>\n",
       "      <th>62</th>\n",
       "      <td>2016</td>\n",
       "      <td>asian</td>\n",
       "      <td>full-time</td>\n",
       "      <td>transfer</td>\n",
       "      <td>4968.0</td>\n",
       "      <td>0.606816</td>\n",
       "    </tr>\n",
       "    <tr>\n",
       "      <th>63</th>\n",
       "      <td>2016</td>\n",
       "      <td>asian</td>\n",
       "      <td>part-time</td>\n",
       "      <td>AA</td>\n",
       "      <td>3503.0</td>\n",
       "      <td>0.199408</td>\n",
       "    </tr>\n",
       "    <tr>\n",
       "      <th>64</th>\n",
       "      <td>2016</td>\n",
       "      <td>asian</td>\n",
       "      <td>part-time</td>\n",
       "      <td>credential</td>\n",
       "      <td>3377.0</td>\n",
       "      <td>0.192235</td>\n",
       "    </tr>\n",
       "    <tr>\n",
       "      <th>65</th>\n",
       "      <td>2016</td>\n",
       "      <td>asian</td>\n",
       "      <td>part-time</td>\n",
       "      <td>transfer</td>\n",
       "      <td>10687.0</td>\n",
       "      <td>0.608357</td>\n",
       "    </tr>\n",
       "    <tr>\n",
       "      <th>66</th>\n",
       "      <td>2016</td>\n",
       "      <td>black</td>\n",
       "      <td>full-time</td>\n",
       "      <td>AA</td>\n",
       "      <td>1038.0</td>\n",
       "      <td>0.185722</td>\n",
       "    </tr>\n",
       "    <tr>\n",
       "      <th>67</th>\n",
       "      <td>2016</td>\n",
       "      <td>black</td>\n",
       "      <td>full-time</td>\n",
       "      <td>credential</td>\n",
       "      <td>1126.0</td>\n",
       "      <td>0.201467</td>\n",
       "    </tr>\n",
       "    <tr>\n",
       "      <th>68</th>\n",
       "      <td>2016</td>\n",
       "      <td>black</td>\n",
       "      <td>full-time</td>\n",
       "      <td>transfer</td>\n",
       "      <td>3425.0</td>\n",
       "      <td>0.612811</td>\n",
       "    </tr>\n",
       "    <tr>\n",
       "      <th>69</th>\n",
       "      <td>2016</td>\n",
       "      <td>black</td>\n",
       "      <td>part-time</td>\n",
       "      <td>AA</td>\n",
       "      <td>2399.0</td>\n",
       "      <td>0.201783</td>\n",
       "    </tr>\n",
       "    <tr>\n",
       "      <th>70</th>\n",
       "      <td>2016</td>\n",
       "      <td>black</td>\n",
       "      <td>part-time</td>\n",
       "      <td>credential</td>\n",
       "      <td>2406.0</td>\n",
       "      <td>0.202372</td>\n",
       "    </tr>\n",
       "    <tr>\n",
       "      <th>71</th>\n",
       "      <td>2016</td>\n",
       "      <td>black</td>\n",
       "      <td>part-time</td>\n",
       "      <td>transfer</td>\n",
       "      <td>7084.0</td>\n",
       "      <td>0.595845</td>\n",
       "    </tr>\n",
       "    <tr>\n",
       "      <th>72</th>\n",
       "      <td>2016</td>\n",
       "      <td>latino</td>\n",
       "      <td>full-time</td>\n",
       "      <td>AA</td>\n",
       "      <td>4283.0</td>\n",
       "      <td>0.202736</td>\n",
       "    </tr>\n",
       "    <tr>\n",
       "      <th>73</th>\n",
       "      <td>2016</td>\n",
       "      <td>latino</td>\n",
       "      <td>full-time</td>\n",
       "      <td>credential</td>\n",
       "      <td>4203.0</td>\n",
       "      <td>0.198949</td>\n",
       "    </tr>\n",
       "    <tr>\n",
       "      <th>74</th>\n",
       "      <td>2016</td>\n",
       "      <td>latino</td>\n",
       "      <td>full-time</td>\n",
       "      <td>transfer</td>\n",
       "      <td>12640.0</td>\n",
       "      <td>0.598315</td>\n",
       "    </tr>\n",
       "    <tr>\n",
       "      <th>75</th>\n",
       "      <td>2016</td>\n",
       "      <td>latino</td>\n",
       "      <td>part-time</td>\n",
       "      <td>AA</td>\n",
       "      <td>8975.0</td>\n",
       "      <td>0.203367</td>\n",
       "    </tr>\n",
       "    <tr>\n",
       "      <th>76</th>\n",
       "      <td>2016</td>\n",
       "      <td>latino</td>\n",
       "      <td>part-time</td>\n",
       "      <td>credential</td>\n",
       "      <td>8952.0</td>\n",
       "      <td>0.202846</td>\n",
       "    </tr>\n",
       "    <tr>\n",
       "      <th>77</th>\n",
       "      <td>2016</td>\n",
       "      <td>latino</td>\n",
       "      <td>part-time</td>\n",
       "      <td>transfer</td>\n",
       "      <td>26205.0</td>\n",
       "      <td>0.593787</td>\n",
       "    </tr>\n",
       "    <tr>\n",
       "      <th>78</th>\n",
       "      <td>2016</td>\n",
       "      <td>other</td>\n",
       "      <td>full-time</td>\n",
       "      <td>AA</td>\n",
       "      <td>214.0</td>\n",
       "      <td>0.204004</td>\n",
       "    </tr>\n",
       "    <tr>\n",
       "      <th>79</th>\n",
       "      <td>2016</td>\n",
       "      <td>other</td>\n",
       "      <td>full-time</td>\n",
       "      <td>credential</td>\n",
       "      <td>205.0</td>\n",
       "      <td>0.195424</td>\n",
       "    </tr>\n",
       "    <tr>\n",
       "      <th>80</th>\n",
       "      <td>2016</td>\n",
       "      <td>other</td>\n",
       "      <td>full-time</td>\n",
       "      <td>transfer</td>\n",
       "      <td>630.0</td>\n",
       "      <td>0.600572</td>\n",
       "    </tr>\n",
       "    <tr>\n",
       "      <th>81</th>\n",
       "      <td>2016</td>\n",
       "      <td>other</td>\n",
       "      <td>part-time</td>\n",
       "      <td>AA</td>\n",
       "      <td>427.0</td>\n",
       "      <td>0.178886</td>\n",
       "    </tr>\n",
       "    <tr>\n",
       "      <th>82</th>\n",
       "      <td>2016</td>\n",
       "      <td>other</td>\n",
       "      <td>part-time</td>\n",
       "      <td>credential</td>\n",
       "      <td>482.0</td>\n",
       "      <td>0.201927</td>\n",
       "    </tr>\n",
       "    <tr>\n",
       "      <th>83</th>\n",
       "      <td>2016</td>\n",
       "      <td>other</td>\n",
       "      <td>part-time</td>\n",
       "      <td>transfer</td>\n",
       "      <td>1478.0</td>\n",
       "      <td>0.619187</td>\n",
       "    </tr>\n",
       "    <tr>\n",
       "      <th>84</th>\n",
       "      <td>2016</td>\n",
       "      <td>white</td>\n",
       "      <td>full-time</td>\n",
       "      <td>AA</td>\n",
       "      <td>3797.0</td>\n",
       "      <td>0.200021</td>\n",
       "    </tr>\n",
       "    <tr>\n",
       "      <th>85</th>\n",
       "      <td>2016</td>\n",
       "      <td>white</td>\n",
       "      <td>full-time</td>\n",
       "      <td>credential</td>\n",
       "      <td>3926.0</td>\n",
       "      <td>0.206817</td>\n",
       "    </tr>\n",
       "    <tr>\n",
       "      <th>86</th>\n",
       "      <td>2016</td>\n",
       "      <td>white</td>\n",
       "      <td>full-time</td>\n",
       "      <td>transfer</td>\n",
       "      <td>11260.0</td>\n",
       "      <td>0.593162</td>\n",
       "    </tr>\n",
       "    <tr>\n",
       "      <th>87</th>\n",
       "      <td>2016</td>\n",
       "      <td>white</td>\n",
       "      <td>part-time</td>\n",
       "      <td>AA</td>\n",
       "      <td>7926.0</td>\n",
       "      <td>0.195025</td>\n",
       "    </tr>\n",
       "    <tr>\n",
       "      <th>88</th>\n",
       "      <td>2016</td>\n",
       "      <td>white</td>\n",
       "      <td>part-time</td>\n",
       "      <td>credential</td>\n",
       "      <td>8371.0</td>\n",
       "      <td>0.205974</td>\n",
       "    </tr>\n",
       "    <tr>\n",
       "      <th>89</th>\n",
       "      <td>2016</td>\n",
       "      <td>white</td>\n",
       "      <td>part-time</td>\n",
       "      <td>transfer</td>\n",
       "      <td>24344.0</td>\n",
       "      <td>0.599001</td>\n",
       "    </tr>\n",
       "  </tbody>\n",
       "</table>\n",
       "<p>90 rows × 6 columns</p>\n",
       "</div>"
      ],
      "text/plain": [
       "    year    race  full_time      intent    units     share\n",
       "0   2014   asian  full-time          AA   1729.0  0.203460\n",
       "1   2014   asian  full-time  credential   1656.0  0.194869\n",
       "2   2014   asian  full-time    transfer   5113.0  0.601671\n",
       "3   2014   asian  part-time          AA   3556.0  0.197205\n",
       "4   2014   asian  part-time  credential   3628.0  0.201198\n",
       "5   2014   asian  part-time    transfer  10848.0  0.601597\n",
       "6   2014   black  full-time          AA   1069.0  0.190961\n",
       "7   2014   black  full-time  credential   1055.0  0.188460\n",
       "8   2014   black  full-time    transfer   3474.0  0.620579\n",
       "9   2014   black  part-time          AA   2279.0  0.202632\n",
       "10  2014   black  part-time  credential   2299.0  0.204410\n",
       "11  2014   black  part-time    transfer   6669.0  0.592958\n",
       "12  2014  latino  full-time          AA   4149.0  0.199021\n",
       "13  2014  latino  full-time  credential   4121.0  0.197678\n",
       "14  2014  latino  full-time    transfer  12577.0  0.603300\n",
       "15  2014  latino  part-time          AA   8810.0  0.199434\n",
       "16  2014  latino  part-time  credential   8610.0  0.194907\n",
       "17  2014  latino  part-time    transfer  26755.0  0.605659\n",
       "18  2014   other  full-time          AA    239.0  0.226326\n",
       "19  2014   other  full-time  credential    204.0  0.193182\n",
       "20  2014   other  full-time    transfer    613.0  0.580492\n",
       "21  2014   other  part-time          AA    476.0  0.204029\n",
       "22  2014   other  part-time  credential    476.0  0.204029\n",
       "23  2014   other  part-time    transfer   1381.0  0.591942\n",
       "24  2014   white  full-time          AA   3740.0  0.195678\n",
       "25  2014   white  full-time  credential   3865.0  0.202218\n",
       "26  2014   white  full-time    transfer  11508.0  0.602103\n",
       "27  2014   white  part-time          AA   8369.0  0.200043\n",
       "28  2014   white  part-time  credential   8421.0  0.201286\n",
       "29  2014   white  part-time    transfer  25046.0  0.598671\n",
       "..   ...     ...        ...         ...      ...       ...\n",
       "60  2016   asian  full-time          AA   1570.0  0.191767\n",
       "61  2016   asian  full-time  credential   1649.0  0.201417\n",
       "62  2016   asian  full-time    transfer   4968.0  0.606816\n",
       "63  2016   asian  part-time          AA   3503.0  0.199408\n",
       "64  2016   asian  part-time  credential   3377.0  0.192235\n",
       "65  2016   asian  part-time    transfer  10687.0  0.608357\n",
       "66  2016   black  full-time          AA   1038.0  0.185722\n",
       "67  2016   black  full-time  credential   1126.0  0.201467\n",
       "68  2016   black  full-time    transfer   3425.0  0.612811\n",
       "69  2016   black  part-time          AA   2399.0  0.201783\n",
       "70  2016   black  part-time  credential   2406.0  0.202372\n",
       "71  2016   black  part-time    transfer   7084.0  0.595845\n",
       "72  2016  latino  full-time          AA   4283.0  0.202736\n",
       "73  2016  latino  full-time  credential   4203.0  0.198949\n",
       "74  2016  latino  full-time    transfer  12640.0  0.598315\n",
       "75  2016  latino  part-time          AA   8975.0  0.203367\n",
       "76  2016  latino  part-time  credential   8952.0  0.202846\n",
       "77  2016  latino  part-time    transfer  26205.0  0.593787\n",
       "78  2016   other  full-time          AA    214.0  0.204004\n",
       "79  2016   other  full-time  credential    205.0  0.195424\n",
       "80  2016   other  full-time    transfer    630.0  0.600572\n",
       "81  2016   other  part-time          AA    427.0  0.178886\n",
       "82  2016   other  part-time  credential    482.0  0.201927\n",
       "83  2016   other  part-time    transfer   1478.0  0.619187\n",
       "84  2016   white  full-time          AA   3797.0  0.200021\n",
       "85  2016   white  full-time  credential   3926.0  0.206817\n",
       "86  2016   white  full-time    transfer  11260.0  0.593162\n",
       "87  2016   white  part-time          AA   7926.0  0.195025\n",
       "88  2016   white  part-time  credential   8371.0  0.205974\n",
       "89  2016   white  part-time    transfer  24344.0  0.599001\n",
       "\n",
       "[90 rows x 6 columns]"
      ]
     },
     "execution_count": 52,
     "metadata": {},
     "output_type": "execute_result"
    }
   ],
   "source": [
    "dff = sd_mesa.groupby(['year', 'race', 'full_time', 'intent'])['units'].sum().to_frame().reset_index()\n",
    "dff['share'] = dff.groupby(['year', 'race', 'full_time'])['units'].apply(lambda x: x/x.sum())\n",
    "\n",
    "dff"
   ]
  },
  {
   "cell_type": "code",
   "execution_count": 64,
   "metadata": {},
   "outputs": [
    {
     "data": {
      "application/vnd.vegalite.v2+json": {
       "$schema": "https://vega.github.io/schema/vega-lite/v2.4.3.json",
       "config": {
        "view": {
         "height": 300,
         "width": 400
        }
       },
       "data": {
        "values": [
         {
          "full_time": "full-time",
          "intent": "AA",
          "race": "asian",
          "share": 0.20345963756177923,
          "units": 1729,
          "year": 2014
         },
         {
          "full_time": "full-time",
          "intent": "credential",
          "race": "asian",
          "share": 0.1948693810308308,
          "units": 1656,
          "year": 2014
         },
         {
          "full_time": "full-time",
          "intent": "transfer",
          "race": "asian",
          "share": 0.60167098140739,
          "units": 5113,
          "year": 2014
         },
         {
          "full_time": "part-time",
          "intent": "AA",
          "race": "asian",
          "share": 0.1972049689440994,
          "units": 3556,
          "year": 2014
         },
         {
          "full_time": "part-time",
          "intent": "credential",
          "race": "asian",
          "share": 0.20119787045252885,
          "units": 3628,
          "year": 2014
         },
         {
          "full_time": "part-time",
          "intent": "transfer",
          "race": "asian",
          "share": 0.6015971606033718,
          "units": 10848,
          "year": 2014
         },
         {
          "full_time": "full-time",
          "intent": "AA",
          "race": "black",
          "share": 0.19096105752054304,
          "units": 1069,
          "year": 2014
         },
         {
          "full_time": "full-time",
          "intent": "credential",
          "race": "black",
          "share": 0.1884601643444087,
          "units": 1055,
          "year": 2014
         },
         {
          "full_time": "full-time",
          "intent": "transfer",
          "race": "black",
          "share": 0.6205787781350482,
          "units": 3474,
          "year": 2014
         },
         {
          "full_time": "part-time",
          "intent": "AA",
          "race": "black",
          "share": 0.20263181292789187,
          "units": 2279,
          "year": 2014
         },
         {
          "full_time": "part-time",
          "intent": "credential",
          "race": "black",
          "share": 0.2044100649061972,
          "units": 2299,
          "year": 2014
         },
         {
          "full_time": "part-time",
          "intent": "transfer",
          "race": "black",
          "share": 0.5929581221659109,
          "units": 6669,
          "year": 2014
         },
         {
          "full_time": "full-time",
          "intent": "AA",
          "race": "latino",
          "share": 0.19902144193409124,
          "units": 4149,
          "year": 2014
         },
         {
          "full_time": "full-time",
          "intent": "credential",
          "race": "latino",
          "share": 0.19767832302009883,
          "units": 4121,
          "year": 2014
         },
         {
          "full_time": "full-time",
          "intent": "transfer",
          "race": "latino",
          "share": 0.60330023504581,
          "units": 12577,
          "year": 2014
         },
         {
          "full_time": "part-time",
          "intent": "AA",
          "race": "latino",
          "share": 0.1994340690435767,
          "units": 8810,
          "year": 2014
         },
         {
          "full_time": "part-time",
          "intent": "credential",
          "race": "latino",
          "share": 0.19490662139219014,
          "units": 8610,
          "year": 2014
         },
         {
          "full_time": "part-time",
          "intent": "transfer",
          "race": "latino",
          "share": 0.6056593095642332,
          "units": 26755,
          "year": 2014
         },
         {
          "full_time": "full-time",
          "intent": "AA",
          "race": "other",
          "share": 0.22632575757575757,
          "units": 239,
          "year": 2014
         },
         {
          "full_time": "full-time",
          "intent": "credential",
          "race": "other",
          "share": 0.19318181818181818,
          "units": 204,
          "year": 2014
         },
         {
          "full_time": "full-time",
          "intent": "transfer",
          "race": "other",
          "share": 0.5804924242424242,
          "units": 613,
          "year": 2014
         },
         {
          "full_time": "part-time",
          "intent": "AA",
          "race": "other",
          "share": 0.204029147021003,
          "units": 476,
          "year": 2014
         },
         {
          "full_time": "part-time",
          "intent": "credential",
          "race": "other",
          "share": 0.204029147021003,
          "units": 476,
          "year": 2014
         },
         {
          "full_time": "part-time",
          "intent": "transfer",
          "race": "other",
          "share": 0.591941705957994,
          "units": 1381,
          "year": 2014
         },
         {
          "full_time": "full-time",
          "intent": "AA",
          "race": "white",
          "share": 0.19567833411813948,
          "units": 3740,
          "year": 2014
         },
         {
          "full_time": "full-time",
          "intent": "credential",
          "race": "white",
          "share": 0.2022183853921415,
          "units": 3865,
          "year": 2014
         },
         {
          "full_time": "full-time",
          "intent": "transfer",
          "race": "white",
          "share": 0.6021032804897191,
          "units": 11508,
          "year": 2014
         },
         {
          "full_time": "part-time",
          "intent": "AA",
          "race": "white",
          "share": 0.20004302514580743,
          "units": 8369,
          "year": 2014
         },
         {
          "full_time": "part-time",
          "intent": "credential",
          "race": "white",
          "share": 0.20128597380246677,
          "units": 8421,
          "year": 2014
         },
         {
          "full_time": "part-time",
          "intent": "transfer",
          "race": "white",
          "share": 0.5986710010517258,
          "units": 25046,
          "year": 2014
         },
         {
          "full_time": "full-time",
          "intent": "AA",
          "race": "asian",
          "share": 0.18800433578224737,
          "units": 1561,
          "year": 2015
         },
         {
          "full_time": "full-time",
          "intent": "credential",
          "race": "asian",
          "share": 0.19149704925930386,
          "units": 1590,
          "year": 2015
         },
         {
          "full_time": "full-time",
          "intent": "transfer",
          "race": "asian",
          "share": 0.6204986149584487,
          "units": 5152,
          "year": 2015
         },
         {
          "full_time": "part-time",
          "intent": "AA",
          "race": "asian",
          "share": 0.1994820143884892,
          "units": 3466,
          "year": 2015
         },
         {
          "full_time": "part-time",
          "intent": "credential",
          "race": "asian",
          "share": 0.19758273381294963,
          "units": 3433,
          "year": 2015
         },
         {
          "full_time": "part-time",
          "intent": "transfer",
          "race": "asian",
          "share": 0.6029352517985611,
          "units": 10476,
          "year": 2015
         },
         {
          "full_time": "full-time",
          "intent": "AA",
          "race": "black",
          "share": 0.20877161704403638,
          "units": 1171,
          "year": 2015
         },
         {
          "full_time": "full-time",
          "intent": "credential",
          "race": "black",
          "share": 0.19415225530397576,
          "units": 1089,
          "year": 2015
         },
         {
          "full_time": "full-time",
          "intent": "transfer",
          "race": "black",
          "share": 0.5970761276519879,
          "units": 3349,
          "year": 2015
         },
         {
          "full_time": "part-time",
          "intent": "AA",
          "race": "black",
          "share": 0.2020533535302533,
          "units": 2401,
          "year": 2015
         },
         {
          "full_time": "part-time",
          "intent": "credential",
          "race": "black",
          "share": 0.19658335437179164,
          "units": 2336,
          "year": 2015
         },
         {
          "full_time": "part-time",
          "intent": "transfer",
          "race": "black",
          "share": 0.601363292097955,
          "units": 7146,
          "year": 2015
         },
         {
          "full_time": "full-time",
          "intent": "AA",
          "race": "latino",
          "share": 0.19356675206376317,
          "units": 4080,
          "year": 2015
         },
         {
          "full_time": "full-time",
          "intent": "credential",
          "race": "latino",
          "share": 0.2022487902077996,
          "units": 4263,
          "year": 2015
         },
         {
          "full_time": "full-time",
          "intent": "transfer",
          "race": "latino",
          "share": 0.6041844577284372,
          "units": 12735,
          "year": 2015
         },
         {
          "full_time": "part-time",
          "intent": "AA",
          "race": "latino",
          "share": 0.19963714706882865,
          "units": 8803,
          "year": 2015
         },
         {
          "full_time": "part-time",
          "intent": "credential",
          "race": "latino",
          "share": 0.2030162149903617,
          "units": 8952,
          "year": 2015
         },
         {
          "full_time": "part-time",
          "intent": "transfer",
          "race": "latino",
          "share": 0.5973466379408097,
          "units": 26340,
          "year": 2015
         },
         {
          "full_time": "full-time",
          "intent": "AA",
          "race": "other",
          "share": 0.20202874049027894,
          "units": 239,
          "year": 2015
         },
         {
          "full_time": "full-time",
          "intent": "credential",
          "race": "other",
          "share": 0.2062552831783601,
          "units": 244,
          "year": 2015
         },
         {
          "full_time": "full-time",
          "intent": "transfer",
          "race": "other",
          "share": 0.591715976331361,
          "units": 700,
          "year": 2015
         },
         {
          "full_time": "part-time",
          "intent": "AA",
          "race": "other",
          "share": 0.20488010096760623,
          "units": 487,
          "year": 2015
         },
         {
          "full_time": "part-time",
          "intent": "credential",
          "race": "other",
          "share": 0.1855279764408919,
          "units": 441,
          "year": 2015
         },
         {
          "full_time": "part-time",
          "intent": "transfer",
          "race": "other",
          "share": 0.6095919225915019,
          "units": 1449,
          "year": 2015
         },
         {
          "full_time": "full-time",
          "intent": "AA",
          "race": "white",
          "share": 0.19762305427008833,
          "units": 3758,
          "year": 2015
         },
         {
          "full_time": "full-time",
          "intent": "credential",
          "race": "white",
          "share": 0.20251367269667647,
          "units": 3851,
          "year": 2015
         },
         {
          "full_time": "full-time",
          "intent": "transfer",
          "race": "white",
          "share": 0.5998632730332352,
          "units": 11407,
          "year": 2015
         },
         {
          "full_time": "part-time",
          "intent": "AA",
          "race": "white",
          "share": 0.1985169798560456,
          "units": 8219,
          "year": 2015
         },
         {
          "full_time": "part-time",
          "intent": "credential",
          "race": "white",
          "share": 0.19511134727790927,
          "units": 8078,
          "year": 2015
         },
         {
          "full_time": "part-time",
          "intent": "transfer",
          "race": "white",
          "share": 0.6063716728660451,
          "units": 25105,
          "year": 2015
         },
         {
          "full_time": "full-time",
          "intent": "AA",
          "race": "asian",
          "share": 0.19176743617930866,
          "units": 1570,
          "year": 2016
         },
         {
          "full_time": "full-time",
          "intent": "credential",
          "race": "asian",
          "share": 0.20141688042017833,
          "units": 1649,
          "year": 2016
         },
         {
          "full_time": "full-time",
          "intent": "transfer",
          "race": "asian",
          "share": 0.6068156834005131,
          "units": 4968,
          "year": 2016
         },
         {
          "full_time": "part-time",
          "intent": "AA",
          "race": "asian",
          "share": 0.19940798087322822,
          "units": 3503,
          "year": 2016
         },
         {
          "full_time": "part-time",
          "intent": "credential",
          "race": "asian",
          "share": 0.19223544145272387,
          "units": 3377,
          "year": 2016
         },
         {
          "full_time": "part-time",
          "intent": "transfer",
          "race": "asian",
          "share": 0.6083565776740479,
          "units": 10687,
          "year": 2016
         },
         {
          "full_time": "full-time",
          "intent": "AA",
          "race": "black",
          "share": 0.18572195383789586,
          "units": 1038,
          "year": 2016
         },
         {
          "full_time": "full-time",
          "intent": "credential",
          "race": "black",
          "share": 0.20146716765074252,
          "units": 1126,
          "year": 2016
         },
         {
          "full_time": "full-time",
          "intent": "transfer",
          "race": "black",
          "share": 0.6128108785113616,
          "units": 3425,
          "year": 2016
         },
         {
          "full_time": "part-time",
          "intent": "AA",
          "race": "black",
          "share": 0.20178316090503828,
          "units": 2399,
          "year": 2016
         },
         {
          "full_time": "part-time",
          "intent": "credential",
          "race": "black",
          "share": 0.20237194044915469,
          "units": 2406,
          "year": 2016
         },
         {
          "full_time": "part-time",
          "intent": "transfer",
          "race": "black",
          "share": 0.595844898645807,
          "units": 7084,
          "year": 2016
         },
         {
          "full_time": "full-time",
          "intent": "AA",
          "race": "latino",
          "share": 0.20273596516141248,
          "units": 4283,
          "year": 2016
         },
         {
          "full_time": "full-time",
          "intent": "credential",
          "race": "latino",
          "share": 0.1989491621698381,
          "units": 4203,
          "year": 2016
         },
         {
          "full_time": "full-time",
          "intent": "transfer",
          "race": "latino",
          "share": 0.5983148726687494,
          "units": 12640,
          "year": 2016
         },
         {
          "full_time": "part-time",
          "intent": "AA",
          "race": "latino",
          "share": 0.20336717121363182,
          "units": 8975,
          "year": 2016
         },
         {
          "full_time": "part-time",
          "intent": "credential",
          "race": "latino",
          "share": 0.2028460074322487,
          "units": 8952,
          "year": 2016
         },
         {
          "full_time": "part-time",
          "intent": "transfer",
          "race": "latino",
          "share": 0.5937868213541194,
          "units": 26205,
          "year": 2016
         },
         {
          "full_time": "full-time",
          "intent": "AA",
          "race": "other",
          "share": 0.20400381315538607,
          "units": 214,
          "year": 2016
         },
         {
          "full_time": "full-time",
          "intent": "credential",
          "race": "other",
          "share": 0.1954242135367016,
          "units": 205,
          "year": 2016
         },
         {
          "full_time": "full-time",
          "intent": "transfer",
          "race": "other",
          "share": 0.6005719733079123,
          "units": 630,
          "year": 2016
         },
         {
          "full_time": "part-time",
          "intent": "AA",
          "race": "other",
          "share": 0.17888563049853373,
          "units": 427,
          "year": 2016
         },
         {
          "full_time": "part-time",
          "intent": "credential",
          "race": "other",
          "share": 0.2019271051529116,
          "units": 482,
          "year": 2016
         },
         {
          "full_time": "part-time",
          "intent": "transfer",
          "race": "other",
          "share": 0.6191872643485546,
          "units": 1478,
          "year": 2016
         },
         {
          "full_time": "full-time",
          "intent": "AA",
          "race": "white",
          "share": 0.2000210714850129,
          "units": 3797,
          "year": 2016
         },
         {
          "full_time": "full-time",
          "intent": "credential",
          "race": "white",
          "share": 0.20681662540167517,
          "units": 3926,
          "year": 2016
         },
         {
          "full_time": "full-time",
          "intent": "transfer",
          "race": "white",
          "share": 0.5931623031133119,
          "units": 11260,
          "year": 2016
         },
         {
          "full_time": "part-time",
          "intent": "AA",
          "race": "white",
          "share": 0.19502472872222631,
          "units": 7926,
          "year": 2016
         },
         {
          "full_time": "part-time",
          "intent": "credential",
          "race": "white",
          "share": 0.20597426244432962,
          "units": 8371,
          "year": 2016
         },
         {
          "full_time": "part-time",
          "intent": "transfer",
          "race": "white",
          "share": 0.5990010088334441,
          "units": 24344,
          "year": 2016
         }
        ]
       },
       "encoding": {
        "color": {
         "field": "full_time",
         "type": "nominal"
        },
        "column": {
         "field": "race",
         "type": "nominal"
        },
        "row": {
         "field": "intent",
         "type": "nominal"
        },
        "x": {
         "field": "year",
         "type": "ordinal"
        },
        "y": {
         "field": "units",
         "type": "quantitative"
        }
       },
       "height": 150,
       "mark": "line",
       "width": 150
      },
      "image/png": "[encoded data removed]",
      "text/plain": [
       "<VegaLite 2 object>\n",
       "\n",
       "If you see this message, it means the renderer has not been properly enabled\n",
       "for the frontend that you are using. For more information, see\n",
       "https://altair-viz.github.io/user_guide/troubleshooting.html\n"
      ]
     },
     "execution_count": 64,
     "metadata": {},
     "output_type": "execute_result"
    }
   ],
   "source": [
    "chart = alt.Chart(dff).mark_line().encode(\n",
    "    x = 'year:O',\n",
    "    y = 'units:Q',\n",
    "    color = 'full_time:N',\n",
    "    column = 'race:N',\n",
    "    row = 'intent:N'\n",
    ").properties(\n",
    "    width = 150,\n",
    "    height = 150,\n",
    ")\n",
    "\n",
    "chart"
   ]
  },
  {
   "cell_type": "code",
   "execution_count": null,
   "metadata": {},
   "outputs": [],
   "source": []
  }
 ],
 "metadata": {
  "kernelspec": {
   "display_name": "Python 3",
   "language": "python",
   "name": "python3"
  },
  "language_info": {
   "codemirror_mode": {
    "name": "ipython",
    "version": 3
   },
   "file_extension": ".py",
   "mimetype": "text/x-python",
   "name": "python",
   "nbconvert_exporter": "python",
   "pygments_lexer": "ipython3",
   "version": "3.6.6"
  }
 },
 "nbformat": 4,
 "nbformat_minor": 2
}
