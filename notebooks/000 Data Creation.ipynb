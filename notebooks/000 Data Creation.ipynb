{
 "cells": [
  {
   "cell_type": "markdown",
   "metadata": {},
   "source": [
    "# Creating fake data for analysis\n",
    "\n",
    "This notebook illustrates the methods behind the dataset we use in our analysis.\n",
    "\n",
    "\n",
    "Goals:\n",
    "1. Create a dataset similar in shape and content to that of COMIS (?)\n",
    "  - one row for each course taken\n",
    "      - student features\n",
    "        - ids/ssn\n",
    "        - demographics (age, sex)\n",
    "        - student intent (transfer, AA, credential)\n",
    "        - first time or returning\n",
    "      - course features\n",
    "        - course id\n",
    "        - section id\n",
    "        - units\n",
    "        - grade in class\n",
    "        - college id\n",
    "        - department (Math, English)\n",
    "        - dev ed (T/F)\n",
    "      - term id (Year, Term)\n",
    "2. Prepare data in similar fashion to that we receive\n",
    "  - categoricals\n",
    "  - fall-winter-spring-quarter system\n",
    "3. Prepare a second dataset for __Enrollment__ (10 million rows)\n",
    "  - columns: term, course name, course code, college id, units, credit/noncredit \n",
    "\n",
    "***\n",
    "__Set up__"
   ]
  },
  {
   "cell_type": "code",
   "execution_count": 1,
   "metadata": {},
   "outputs": [],
   "source": [
    "import pandas as pd\n",
    "import numpy as np"
   ]
  },
  {
   "cell_type": "markdown",
   "metadata": {},
   "source": [
    "We will end up with a dataset 10 million rows long but it should only have 1 million students (taking at most 10 classes).\n",
    "\n",
    "First, the students: <br>\n",
    "They must have an 1) id/ssn, 2) age, 3) sex, 4) intent, 5) first time status."
   ]
  },
  {
   "cell_type": "code",
   "execution_count": 2,
   "metadata": {},
   "outputs": [],
   "source": [
    "np.random.seed(41)\n",
    "\n",
    "intent = np.random.choice(a = ['transfer', 'AA', 'credential'], size = 1_000_000, p = [.6, .2, .2])\n",
    "\n",
    "sex = np.random.choice(a = ['male', 'female'], size = 1_000_000, p = [.49, .51])\n",
    "first_time = np.random.choice(a = ['first', 'returning'], size = 1_000_000, p = [.3, .7])\n",
    "\n",
    "# the following will return ~one million different 'ids' but not exactly one million if some numbers are repeated by chance\n",
    "# that is ok though\n",
    "ids = np.random.randint(low = 100_000, high = 999_999, size = 1_000_000,) \n",
    "\n",
    "age = np.random.randint(low = 18, high = 99, size = 1_000_000,)\n",
    "\n",
    "race_ethnicity = np.random.choice(a = ['asian', 'white', 'latino', 'black', 'other'], size = 1_000_000, p = [0.15, 0.35, 0.38, 0.10, 0.02])"
   ]
  },
  {
   "cell_type": "code",
   "execution_count": 3,
   "metadata": {},
   "outputs": [
    {
     "data": {
      "text/html": [
       "<div>\n",
       "<style scoped>\n",
       "    .dataframe tbody tr th:only-of-type {\n",
       "        vertical-align: middle;\n",
       "    }\n",
       "\n",
       "    .dataframe tbody tr th {\n",
       "        vertical-align: top;\n",
       "    }\n",
       "\n",
       "    .dataframe thead th {\n",
       "        text-align: right;\n",
       "    }\n",
       "</style>\n",
       "<table border=\"1\" class=\"dataframe\">\n",
       "  <thead>\n",
       "    <tr style=\"text-align: right;\">\n",
       "      <th></th>\n",
       "      <th>ids</th>\n",
       "      <th>sex</th>\n",
       "      <th>age</th>\n",
       "      <th>first_time_status</th>\n",
       "      <th>intent</th>\n",
       "      <th>race</th>\n",
       "    </tr>\n",
       "  </thead>\n",
       "  <tbody>\n",
       "    <tr>\n",
       "      <th>0</th>\n",
       "      <td>677074</td>\n",
       "      <td>female</td>\n",
       "      <td>82</td>\n",
       "      <td>first</td>\n",
       "      <td>transfer</td>\n",
       "      <td>latino</td>\n",
       "    </tr>\n",
       "    <tr>\n",
       "      <th>1</th>\n",
       "      <td>344008</td>\n",
       "      <td>female</td>\n",
       "      <td>18</td>\n",
       "      <td>first</td>\n",
       "      <td>transfer</td>\n",
       "      <td>white</td>\n",
       "    </tr>\n",
       "    <tr>\n",
       "      <th>2</th>\n",
       "      <td>165437</td>\n",
       "      <td>male</td>\n",
       "      <td>52</td>\n",
       "      <td>returning</td>\n",
       "      <td>AA</td>\n",
       "      <td>latino</td>\n",
       "    </tr>\n",
       "    <tr>\n",
       "      <th>3</th>\n",
       "      <td>501411</td>\n",
       "      <td>male</td>\n",
       "      <td>21</td>\n",
       "      <td>returning</td>\n",
       "      <td>transfer</td>\n",
       "      <td>latino</td>\n",
       "    </tr>\n",
       "    <tr>\n",
       "      <th>4</th>\n",
       "      <td>983007</td>\n",
       "      <td>male</td>\n",
       "      <td>63</td>\n",
       "      <td>returning</td>\n",
       "      <td>transfer</td>\n",
       "      <td>black</td>\n",
       "    </tr>\n",
       "  </tbody>\n",
       "</table>\n",
       "</div>"
      ],
      "text/plain": [
       "      ids     sex  age first_time_status    intent    race\n",
       "0  677074  female   82             first  transfer  latino\n",
       "1  344008  female   18             first  transfer   white\n",
       "2  165437    male   52         returning        AA  latino\n",
       "3  501411    male   21         returning  transfer  latino\n",
       "4  983007    male   63         returning  transfer   black"
      ]
     },
     "execution_count": 3,
     "metadata": {},
     "output_type": "execute_result"
    }
   ],
   "source": [
    "data = pd.DataFrame(data = {'ids': ids, 'sex': sex, 'age': age, 'first_time_status': first_time, 'intent': intent, 'race':race_ethnicity}, )\n",
    "\n",
    "data.head()"
   ]
  },
  {
   "cell_type": "code",
   "execution_count": 4,
   "metadata": {},
   "outputs": [
    {
     "name": "stdout",
     "output_type": "stream",
     "text": [
      "Only 60.36% of ids are unique. Meaning, we have 603,584 students in total.\n"
     ]
    }
   ],
   "source": [
    "print(f\"Only {data['ids'].nunique() / len(data['ids']):.2%} of ids are unique. Meaning, we have {data['ids'].nunique():,.0f} students in total.\")"
   ]
  },
  {
   "cell_type": "markdown",
   "metadata": {},
   "source": [
    "### TODO:\n",
    "1. create class course's data \n",
    "2. merge both datasets into 1 big ~10 mill dataset.\n",
    "\n",
    "IDEA:\n",
    "Create a 10 million row series choosing from `data['ids'].unique()` and then `pd.merge(10mil_ids, data)` then then add course features. "
   ]
  },
  {
   "cell_type": "code",
   "execution_count": 17,
   "metadata": {},
   "outputs": [
    {
     "name": "stdout",
     "output_type": "stream",
     "text": [
      "(16569400, 6)\n",
      "      ids     sex  age first_time_status    intent    race\n",
      "0  705086  female   77         returning  transfer  latino\n",
      "1  705086    male   69         returning  transfer   black\n",
      "2  705086    male   57         returning  transfer  latino\n",
      "3  362145    male   81             first  transfer   black\n",
      "4  362145    male   71         returning  transfer   white\n"
     ]
    }
   ],
   "source": [
    "big_data = np.random.choice(a = data['ids'].unique(), size = 10_000_000)\n",
    "\n",
    "big_data = pd.DataFrame(big_data)\n",
    "big_data.columns = ['ids']\n",
    "\n",
    "big_data = pd.merge(big_data, data, how = 'left')\n",
    "\n",
    "print(big_data.shape)\n",
    "print(big_data.head())"
   ]
  }
 ],
 "metadata": {
  "kernelspec": {
   "display_name": "Python 3",
   "language": "python",
   "name": "python3"
  },
  "language_info": {
   "codemirror_mode": {
    "name": "ipython",
    "version": 3
   },
   "file_extension": ".py",
   "mimetype": "text/x-python",
   "name": "python",
   "nbconvert_exporter": "python",
   "pygments_lexer": "ipython3",
   "version": "3.6.6"
  }
 },
 "nbformat": 4,
 "nbformat_minor": 2
}
